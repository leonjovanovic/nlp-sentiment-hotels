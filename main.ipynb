{
 "cells": [
  {
   "cell_type": "code",
   "execution_count": 1,
   "metadata": {
    "pycharm": {
     "name": "#%%\n"
    }
   },
   "outputs": [],
   "source": [
    "from utils import import_annotated_json, ModelType\n",
    "from cross_validation import cross_validation, nested_cross_validation\n",
    "from models.bayes_classifier import NaiveBayes, NaiveBayesCombined\n",
    "from models.logistic_regression_classifier import LogisticRegression, LogisticRegressionCombined\n",
    "from models.svm_classifier import SupportVectorMachine, SupportVectorMachineCombined, SupportVectorMachineOneVsRest\n",
    "\n",
    "df = import_annotated_json()\n",
    "categories = ['amenities', 'location', 'cleanliness', 'staff']"
   ]
  },
  {
   "cell_type": "code",
   "execution_count": 2,
   "metadata": {
    "collapsed": false,
    "pycharm": {
     "name": "#%%\n"
    }
   },
   "outputs": [],
   "source": [
    "# print('Multinomial Naive Bayes:')\n",
    "# J, accuracy = nested_cross_validation(df.hotel_review.to_frame(), df[category].to_frame(), NaiveBayes(ModelType.BOTH))\n",
    "# print(f'Average accuracy is {accuracy}, average cost is {J}')\n",
    "# print('Combined Naive Bayes:')\n",
    "# J, accuracy = nested_cross_validation(df.hotel_review.to_frame(), df[category].to_frame(), NaiveBayesCombined())\n",
    "# print(f'Average accuracy is {accuracy}, average cost is {J}')"
   ]
  },
  {
   "cell_type": "code",
   "execution_count": 3,
   "metadata": {
    "collapsed": false,
    "pycharm": {
     "name": "#%%\n"
    }
   },
   "outputs": [
    {
     "name": "stdout",
     "output_type": "stream",
     "text": [
      "Logistic regression for amenities\n",
      "Softmax Logistic regression:\n",
      "        It0: J_train = 2.0304358028409712, J_val = 1.9067887744126284, Acc_val = 0.348\n"
     ]
    },
    {
     "ename": "KeyboardInterrupt",
     "evalue": "",
     "output_type": "error",
     "traceback": [
      "\u001b[1;31m---------------------------------------------------------------------------\u001b[0m",
      "\u001b[1;31mKeyboardInterrupt\u001b[0m                         Traceback (most recent call last)",
      "\u001b[1;32md:\\Users\\Leon Jovanovic\\Documents\\Computer Science\\Machine Learning\\nlp-sentiment-hotels\\main.ipynb Cell 3\u001b[0m in \u001b[0;36m<cell line: 1>\u001b[1;34m()\u001b[0m\n\u001b[0;32m      <a href='vscode-notebook-cell:/d%3A/Users/Leon%20Jovanovic/Documents/Computer%20Science/Machine%20Learning/nlp-sentiment-hotels/main.ipynb#W2sZmlsZQ%3D%3D?line=1'>2</a>\u001b[0m \u001b[39mprint\u001b[39m(\u001b[39mf\u001b[39m\u001b[39m'\u001b[39m\u001b[39mLogistic regression for \u001b[39m\u001b[39m{\u001b[39;00mcategory\u001b[39m}\u001b[39;00m\u001b[39m'\u001b[39m)\n\u001b[0;32m      <a href='vscode-notebook-cell:/d%3A/Users/Leon%20Jovanovic/Documents/Computer%20Science/Machine%20Learning/nlp-sentiment-hotels/main.ipynb#W2sZmlsZQ%3D%3D?line=2'>3</a>\u001b[0m \u001b[39mprint\u001b[39m(\u001b[39m'\u001b[39m\u001b[39mSoftmax Logistic regression:\u001b[39m\u001b[39m'\u001b[39m)\n\u001b[1;32m----> <a href='vscode-notebook-cell:/d%3A/Users/Leon%20Jovanovic/Documents/Computer%20Science/Machine%20Learning/nlp-sentiment-hotels/main.ipynb#W2sZmlsZQ%3D%3D?line=3'>4</a>\u001b[0m J, accuracy \u001b[39m=\u001b[39m cross_validation(df\u001b[39m.\u001b[39;49mhotel_review\u001b[39m.\u001b[39;49mto_frame(), df[category]\u001b[39m.\u001b[39;49mto_frame(), LogisticRegression(ModelType\u001b[39m.\u001b[39;49mBOTH))\n\u001b[0;32m      <a href='vscode-notebook-cell:/d%3A/Users/Leon%20Jovanovic/Documents/Computer%20Science/Machine%20Learning/nlp-sentiment-hotels/main.ipynb#W2sZmlsZQ%3D%3D?line=4'>5</a>\u001b[0m \u001b[39mprint\u001b[39m(\u001b[39mf\u001b[39m\u001b[39m'\u001b[39m\u001b[39mAverage accuracy is \u001b[39m\u001b[39m{\u001b[39;00maccuracy\u001b[39m}\u001b[39;00m\u001b[39m, average cost is \u001b[39m\u001b[39m{\u001b[39;00mJ\u001b[39m}\u001b[39;00m\u001b[39m'\u001b[39m)\n\u001b[0;32m      <a href='vscode-notebook-cell:/d%3A/Users/Leon%20Jovanovic/Documents/Computer%20Science/Machine%20Learning/nlp-sentiment-hotels/main.ipynb#W2sZmlsZQ%3D%3D?line=5'>6</a>\u001b[0m \u001b[39mprint\u001b[39m(\u001b[39m'\u001b[39m\u001b[39mCombined Logistic regression:\u001b[39m\u001b[39m'\u001b[39m)\n",
      "File \u001b[1;32md:\\Users\\Leon Jovanovic\\Documents\\Computer Science\\Machine Learning\\nlp-sentiment-hotels\\cross_validation.py:21\u001b[0m, in \u001b[0;36mcross_validation\u001b[1;34m(input_data, output_data, model, preprocess_params)\u001b[0m\n\u001b[0;32m     18\u001b[0m is_bayes \u001b[39m=\u001b[39m \u001b[39misinstance\u001b[39m(model, NaiveBayes) \u001b[39mor\u001b[39;00m \u001b[39misinstance\u001b[39m(model, NaiveBayesCombined)\n\u001b[0;32m     19\u001b[0m train_input, test_or_val_input \u001b[39m=\u001b[39m preprocess(train_input\u001b[39m.\u001b[39mhotel_review, test_or_val_input\u001b[39m.\u001b[39mhotel_review, is_bayes, preprocess_params)\n\u001b[1;32m---> 21\u001b[0m model\u001b[39m.\u001b[39;49mtrain(train_input, train_output, test_or_val_input, test_or_val_output)\n\u001b[0;32m     22\u001b[0m J, accuracy \u001b[39m=\u001b[39m model\u001b[39m.\u001b[39mtest(test_or_val_input, test_or_val_output)\n\u001b[0;32m     23\u001b[0m J_values\u001b[39m.\u001b[39mappend(J)\n",
      "File \u001b[1;32md:\\Users\\Leon Jovanovic\\Documents\\Computer Science\\Machine Learning\\nlp-sentiment-hotels\\models\\logistic_regression_classifier.py:100\u001b[0m, in \u001b[0;36mLogisticRegression.train\u001b[1;34m(self, train_input_data, train_output_data, validation_input_data, validation_output_data)\u001b[0m\n\u001b[0;32m     98\u001b[0m \u001b[39mfor\u001b[39;00m mini_batch_index \u001b[39min\u001b[39;00m \u001b[39mrange\u001b[39m(\u001b[39m0\u001b[39m, train_dataset\u001b[39m.\u001b[39mshape[\u001b[39m0\u001b[39m], \u001b[39mself\u001b[39m\u001b[39m.\u001b[39mmini_batch_size):\n\u001b[0;32m     99\u001b[0m     J_train \u001b[39m=\u001b[39m \u001b[39mself\u001b[39m\u001b[39m.\u001b[39mtrain_mini_batch(train_dataset, mini_batch_index)\n\u001b[1;32m--> 100\u001b[0m     J_validation, accuracy_val \u001b[39m=\u001b[39m \u001b[39mself\u001b[39;49m\u001b[39m.\u001b[39;49mtest(validation_input_data, validation_output_data)\n\u001b[0;32m    101\u001b[0m \u001b[39mprint\u001b[39m(\u001b[39mf\u001b[39m\u001b[39m'\u001b[39m\u001b[39m        It\u001b[39m\u001b[39m{\u001b[39;00miteration\u001b[39m}\u001b[39;00m\u001b[39m: J_train = \u001b[39m\u001b[39m{\u001b[39;00mJ_train\u001b[39m}\u001b[39;00m\u001b[39m, J_val = \u001b[39m\u001b[39m{\u001b[39;00mJ_validation\u001b[39m}\u001b[39;00m\u001b[39m, Acc_val = \u001b[39m\u001b[39m{\u001b[39;00maccuracy_val\u001b[39m}\u001b[39;00m\u001b[39m'\u001b[39m)\n",
      "File \u001b[1;32md:\\Users\\Leon Jovanovic\\Documents\\Computer Science\\Machine Learning\\nlp-sentiment-hotels\\models\\logistic_regression_classifier.py:104\u001b[0m, in \u001b[0;36mLogisticRegression.test\u001b[1;34m(self, input_data, output_data)\u001b[0m\n\u001b[0;32m    103\u001b[0m \u001b[39mdef\u001b[39;00m \u001b[39mtest\u001b[39m(\u001b[39mself\u001b[39m, input_data, output_data):\n\u001b[1;32m--> 104\u001b[0m     data \u001b[39m=\u001b[39m prepare_dataset(input_data, output_data, \u001b[39mself\u001b[39;49m\u001b[39m.\u001b[39;49mtype)\u001b[39m.\u001b[39;49mto_numpy()\n\u001b[0;32m    105\u001b[0m     _, Y, H, J \u001b[39m=\u001b[39m \u001b[39mself\u001b[39m\u001b[39m.\u001b[39mcompute(data)\n\u001b[0;32m    106\u001b[0m     \u001b[39mif\u001b[39;00m \u001b[39mself\u001b[39m\u001b[39m.\u001b[39mk \u001b[39m>\u001b[39m \u001b[39m1\u001b[39m:\n",
      "File \u001b[1;32md:\\Users\\Leon Jovanovic\\anaconda3\\envs\\opj\\lib\\site-packages\\pandas\\core\\frame.py:1753\u001b[0m, in \u001b[0;36mDataFrame.to_numpy\u001b[1;34m(self, dtype, copy, na_value)\u001b[0m\n\u001b[0;32m   1693\u001b[0m \u001b[39mdef\u001b[39;00m \u001b[39mto_numpy\u001b[39m(\n\u001b[0;32m   1694\u001b[0m     \u001b[39mself\u001b[39m,\n\u001b[0;32m   1695\u001b[0m     dtype: npt\u001b[39m.\u001b[39mDTypeLike \u001b[39m|\u001b[39m \u001b[39mNone\u001b[39;00m \u001b[39m=\u001b[39m \u001b[39mNone\u001b[39;00m,\n\u001b[0;32m   1696\u001b[0m     copy: \u001b[39mbool\u001b[39m \u001b[39m=\u001b[39m \u001b[39mFalse\u001b[39;00m,\n\u001b[0;32m   1697\u001b[0m     na_value\u001b[39m=\u001b[39mlib\u001b[39m.\u001b[39mno_default,\n\u001b[0;32m   1698\u001b[0m ) \u001b[39m-\u001b[39m\u001b[39m>\u001b[39m np\u001b[39m.\u001b[39mndarray:\n\u001b[0;32m   1699\u001b[0m     \u001b[39m\"\"\"\u001b[39;00m\n\u001b[0;32m   1700\u001b[0m \u001b[39m    Convert the DataFrame to a NumPy array.\u001b[39;00m\n\u001b[0;32m   1701\u001b[0m \n\u001b[1;32m   (...)\u001b[0m\n\u001b[0;32m   1751\u001b[0m \u001b[39m           [2, 4.5, Timestamp('2000-01-02 00:00:00')]], dtype=object)\u001b[39;00m\n\u001b[0;32m   1752\u001b[0m \u001b[39m    \"\"\"\u001b[39;00m\n\u001b[1;32m-> 1753\u001b[0m     \u001b[39mself\u001b[39;49m\u001b[39m.\u001b[39;49m_consolidate_inplace()\n\u001b[0;32m   1754\u001b[0m     \u001b[39mif\u001b[39;00m dtype \u001b[39mis\u001b[39;00m \u001b[39mnot\u001b[39;00m \u001b[39mNone\u001b[39;00m:\n\u001b[0;32m   1755\u001b[0m         dtype \u001b[39m=\u001b[39m np\u001b[39m.\u001b[39mdtype(dtype)\n",
      "File \u001b[1;32md:\\Users\\Leon Jovanovic\\anaconda3\\envs\\opj\\lib\\site-packages\\pandas\\core\\generic.py:5653\u001b[0m, in \u001b[0;36mNDFrame._consolidate_inplace\u001b[1;34m(self)\u001b[0m\n\u001b[0;32m   5650\u001b[0m \u001b[39mdef\u001b[39;00m \u001b[39mf\u001b[39m():\n\u001b[0;32m   5651\u001b[0m     \u001b[39mself\u001b[39m\u001b[39m.\u001b[39m_mgr \u001b[39m=\u001b[39m \u001b[39mself\u001b[39m\u001b[39m.\u001b[39m_mgr\u001b[39m.\u001b[39mconsolidate()\n\u001b[1;32m-> 5653\u001b[0m \u001b[39mself\u001b[39;49m\u001b[39m.\u001b[39;49m_protect_consolidate(f)\n",
      "File \u001b[1;32md:\\Users\\Leon Jovanovic\\anaconda3\\envs\\opj\\lib\\site-packages\\pandas\\core\\generic.py:5641\u001b[0m, in \u001b[0;36mNDFrame._protect_consolidate\u001b[1;34m(self, f)\u001b[0m\n\u001b[0;32m   5639\u001b[0m     \u001b[39mreturn\u001b[39;00m f()\n\u001b[0;32m   5640\u001b[0m blocks_before \u001b[39m=\u001b[39m \u001b[39mlen\u001b[39m(\u001b[39mself\u001b[39m\u001b[39m.\u001b[39m_mgr\u001b[39m.\u001b[39mblocks)\n\u001b[1;32m-> 5641\u001b[0m result \u001b[39m=\u001b[39m f()\n\u001b[0;32m   5642\u001b[0m \u001b[39mif\u001b[39;00m \u001b[39mlen\u001b[39m(\u001b[39mself\u001b[39m\u001b[39m.\u001b[39m_mgr\u001b[39m.\u001b[39mblocks) \u001b[39m!=\u001b[39m blocks_before:\n\u001b[0;32m   5643\u001b[0m     \u001b[39mself\u001b[39m\u001b[39m.\u001b[39m_clear_item_cache()\n",
      "File \u001b[1;32md:\\Users\\Leon Jovanovic\\anaconda3\\envs\\opj\\lib\\site-packages\\pandas\\core\\generic.py:5651\u001b[0m, in \u001b[0;36mNDFrame._consolidate_inplace.<locals>.f\u001b[1;34m()\u001b[0m\n\u001b[0;32m   5650\u001b[0m \u001b[39mdef\u001b[39;00m \u001b[39mf\u001b[39m():\n\u001b[1;32m-> 5651\u001b[0m     \u001b[39mself\u001b[39m\u001b[39m.\u001b[39m_mgr \u001b[39m=\u001b[39m \u001b[39mself\u001b[39;49m\u001b[39m.\u001b[39;49m_mgr\u001b[39m.\u001b[39;49mconsolidate()\n",
      "File \u001b[1;32md:\\Users\\Leon Jovanovic\\anaconda3\\envs\\opj\\lib\\site-packages\\pandas\\core\\internals\\managers.py:631\u001b[0m, in \u001b[0;36mBaseBlockManager.consolidate\u001b[1;34m(self)\u001b[0m\n\u001b[0;32m    629\u001b[0m bm \u001b[39m=\u001b[39m \u001b[39mtype\u001b[39m(\u001b[39mself\u001b[39m)(\u001b[39mself\u001b[39m\u001b[39m.\u001b[39mblocks, \u001b[39mself\u001b[39m\u001b[39m.\u001b[39maxes, verify_integrity\u001b[39m=\u001b[39m\u001b[39mFalse\u001b[39;00m)\n\u001b[0;32m    630\u001b[0m bm\u001b[39m.\u001b[39m_is_consolidated \u001b[39m=\u001b[39m \u001b[39mFalse\u001b[39;00m\n\u001b[1;32m--> 631\u001b[0m bm\u001b[39m.\u001b[39;49m_consolidate_inplace()\n\u001b[0;32m    632\u001b[0m \u001b[39mreturn\u001b[39;00m bm\n",
      "File \u001b[1;32md:\\Users\\Leon Jovanovic\\anaconda3\\envs\\opj\\lib\\site-packages\\pandas\\core\\internals\\managers.py:1685\u001b[0m, in \u001b[0;36mBlockManager._consolidate_inplace\u001b[1;34m(self)\u001b[0m\n\u001b[0;32m   1683\u001b[0m \u001b[39mdef\u001b[39;00m \u001b[39m_consolidate_inplace\u001b[39m(\u001b[39mself\u001b[39m) \u001b[39m-\u001b[39m\u001b[39m>\u001b[39m \u001b[39mNone\u001b[39;00m:\n\u001b[0;32m   1684\u001b[0m     \u001b[39mif\u001b[39;00m \u001b[39mnot\u001b[39;00m \u001b[39mself\u001b[39m\u001b[39m.\u001b[39mis_consolidated():\n\u001b[1;32m-> 1685\u001b[0m         \u001b[39mself\u001b[39m\u001b[39m.\u001b[39mblocks \u001b[39m=\u001b[39m \u001b[39mtuple\u001b[39m(_consolidate(\u001b[39mself\u001b[39;49m\u001b[39m.\u001b[39;49mblocks))\n\u001b[0;32m   1686\u001b[0m         \u001b[39mself\u001b[39m\u001b[39m.\u001b[39m_is_consolidated \u001b[39m=\u001b[39m \u001b[39mTrue\u001b[39;00m\n\u001b[0;32m   1687\u001b[0m         \u001b[39mself\u001b[39m\u001b[39m.\u001b[39m_known_consolidated \u001b[39m=\u001b[39m \u001b[39mTrue\u001b[39;00m\n",
      "File \u001b[1;32md:\\Users\\Leon Jovanovic\\anaconda3\\envs\\opj\\lib\\site-packages\\pandas\\core\\internals\\managers.py:2084\u001b[0m, in \u001b[0;36m_consolidate\u001b[1;34m(blocks)\u001b[0m\n\u001b[0;32m   2082\u001b[0m new_blocks: \u001b[39mlist\u001b[39m[Block] \u001b[39m=\u001b[39m []\n\u001b[0;32m   2083\u001b[0m \u001b[39mfor\u001b[39;00m (_can_consolidate, dtype), group_blocks \u001b[39min\u001b[39;00m grouper:\n\u001b[1;32m-> 2084\u001b[0m     merged_blocks \u001b[39m=\u001b[39m _merge_blocks(\n\u001b[0;32m   2085\u001b[0m         \u001b[39mlist\u001b[39;49m(group_blocks), dtype\u001b[39m=\u001b[39;49mdtype, can_consolidate\u001b[39m=\u001b[39;49m_can_consolidate\n\u001b[0;32m   2086\u001b[0m     )\n\u001b[0;32m   2087\u001b[0m     new_blocks \u001b[39m=\u001b[39m extend_blocks(merged_blocks, new_blocks)\n\u001b[0;32m   2088\u001b[0m \u001b[39mreturn\u001b[39;00m new_blocks\n",
      "File \u001b[1;32md:\\Users\\Leon Jovanovic\\anaconda3\\envs\\opj\\lib\\site-packages\\pandas\\core\\internals\\managers.py:2111\u001b[0m, in \u001b[0;36m_merge_blocks\u001b[1;34m(blocks, dtype, can_consolidate)\u001b[0m\n\u001b[0;32m   2104\u001b[0m new_values: ArrayLike\n\u001b[0;32m   2106\u001b[0m \u001b[39mif\u001b[39;00m \u001b[39misinstance\u001b[39m(blocks[\u001b[39m0\u001b[39m]\u001b[39m.\u001b[39mdtype, np\u001b[39m.\u001b[39mdtype):\n\u001b[0;32m   2107\u001b[0m     \u001b[39m# error: List comprehension has incompatible type List[Union[ndarray,\u001b[39;00m\n\u001b[0;32m   2108\u001b[0m     \u001b[39m# ExtensionArray]]; expected List[Union[complex, generic,\u001b[39;00m\n\u001b[0;32m   2109\u001b[0m     \u001b[39m# Sequence[Union[int, float, complex, str, bytes, generic]],\u001b[39;00m\n\u001b[0;32m   2110\u001b[0m     \u001b[39m# Sequence[Sequence[Any]], SupportsArray]]\u001b[39;00m\n\u001b[1;32m-> 2111\u001b[0m     new_values \u001b[39m=\u001b[39m np\u001b[39m.\u001b[39;49mvstack([b\u001b[39m.\u001b[39;49mvalues \u001b[39mfor\u001b[39;49;00m b \u001b[39min\u001b[39;49;00m blocks])  \u001b[39m# type: ignore[misc]\u001b[39;00m\n\u001b[0;32m   2112\u001b[0m \u001b[39melse\u001b[39;00m:\n\u001b[0;32m   2113\u001b[0m     bvals \u001b[39m=\u001b[39m [blk\u001b[39m.\u001b[39mvalues \u001b[39mfor\u001b[39;00m blk \u001b[39min\u001b[39;00m blocks]\n",
      "File \u001b[1;32m<__array_function__ internals>:180\u001b[0m, in \u001b[0;36mvstack\u001b[1;34m(*args, **kwargs)\u001b[0m\n",
      "File \u001b[1;32md:\\Users\\Leon Jovanovic\\anaconda3\\envs\\opj\\lib\\site-packages\\numpy\\core\\shape_base.py:282\u001b[0m, in \u001b[0;36mvstack\u001b[1;34m(tup)\u001b[0m\n\u001b[0;32m    280\u001b[0m \u001b[39mif\u001b[39;00m \u001b[39mnot\u001b[39;00m \u001b[39misinstance\u001b[39m(arrs, \u001b[39mlist\u001b[39m):\n\u001b[0;32m    281\u001b[0m     arrs \u001b[39m=\u001b[39m [arrs]\n\u001b[1;32m--> 282\u001b[0m \u001b[39mreturn\u001b[39;00m _nx\u001b[39m.\u001b[39;49mconcatenate(arrs, \u001b[39m0\u001b[39;49m)\n",
      "File \u001b[1;32m<__array_function__ internals>:180\u001b[0m, in \u001b[0;36mconcatenate\u001b[1;34m(*args, **kwargs)\u001b[0m\n",
      "\u001b[1;31mKeyboardInterrupt\u001b[0m: "
     ]
    }
   ],
   "source": [
    "for category in categories:\n",
    "    print(f'Logistic regression for {category}')\n",
    "    print('Softmax Logistic regression:')\n",
    "    J, accuracy = cross_validation(df.hotel_review.to_frame(), df[category].to_frame(), LogisticRegression(ModelType.BOTH))\n",
    "    print(f'Average accuracy is {accuracy}, average cost is {J}')\n",
    "    print('Combined Logistic regression:')\n",
    "    J, accuracy = cross_validation(df.hotel_review.to_frame(), df[category].to_frame(), LogisticRegressionCombined())\n",
    "    print(f'Average accuracy is {accuracy}, average cost is {J}')"
   ]
  },
  {
   "cell_type": "code",
   "execution_count": null,
   "metadata": {},
   "outputs": [],
   "source": [
    "# print('Support Vector Machine:')\n",
    "# J, accuracy = cross_validation(df.hotel_review.to_frame(), df[category].to_frame(), SupportVectorMachineOneVsRest())\n",
    "# print(f'Average accuracy is {accuracy}, average cost is {J}')\n",
    "# print('Combined Support Vector Machine:')\n",
    "# J, accuracy = cross_validation(df.hotel_review.to_frame(), df[category].to_frame(), SupportVectorMachineCombined())\n",
    "# print(f'Average accuracy is {accuracy}, average cost is {J}')"
   ]
  },
  {
   "cell_type": "code",
   "execution_count": 37,
   "metadata": {},
   "outputs": [
    {
     "name": "stdout",
     "output_type": "stream",
     "text": [
      "total: 2504\n",
      "amenities:\n",
      "2    1140\n",
      "1     823\n",
      "0     541\n",
      "Name: amenities, dtype: int64\n",
      "location:\n",
      "0    1350\n",
      "2     980\n",
      "1     174\n",
      "Name: location, dtype: int64\n",
      "cleanliness:\n",
      "0    1434\n",
      "2     865\n",
      "1     205\n",
      "Name: cleanliness, dtype: int64\n",
      "staff:\n",
      "0    1331\n",
      "2    1056\n",
      "1     117\n",
      "Name: staff, dtype: int64\n"
     ]
    }
   ],
   "source": [
    "from utils import import_annotated_json\n",
    "df = import_annotated_json()\n",
    "print(f'total: {df.shape[0]}')\n",
    "print('amenities:')\n",
    "print(df['amenities'].value_counts())\n",
    "print('location:')\n",
    "print(df['location'].value_counts())\n",
    "print('cleanliness:')\n",
    "print(df['cleanliness'].value_counts())\n",
    "print('staff:')\n",
    "print(df['staff'].value_counts())"
   ]
  },
  {
   "cell_type": "code",
   "execution_count": 14,
   "metadata": {},
   "outputs": [
    {
     "data": {
      "text/plain": [
       "1739"
      ]
     },
     "execution_count": 14,
     "metadata": {},
     "output_type": "execute_result"
    }
   ],
   "source": [
    "len(df['amenities'])"
   ]
  },
  {
   "cell_type": "code",
   "execution_count": null,
   "metadata": {},
   "outputs": [],
   "source": []
  }
 ],
 "metadata": {
  "kernelspec": {
   "display_name": "Python 3.10.4 ('opj')",
   "language": "python",
   "name": "python3"
  },
  "language_info": {
   "codemirror_mode": {
    "name": "ipython",
    "version": 3
   },
   "file_extension": ".py",
   "mimetype": "text/x-python",
   "name": "python",
   "nbconvert_exporter": "python",
   "pygments_lexer": "ipython3",
   "version": "3.10.4"
  },
  "orig_nbformat": 4,
  "vscode": {
   "interpreter": {
    "hash": "e34b170828573956425812b9e6b7e6374f6f2417efff6ebd62285e0cdecca193"
   }
  }
 },
 "nbformat": 4,
 "nbformat_minor": 2
}
