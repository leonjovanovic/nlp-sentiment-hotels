{
 "cells": [
  {
   "cell_type": "code",
   "execution_count": 2,
   "metadata": {
    "pycharm": {
     "name": "#%%\n"
    }
   },
   "outputs": [],
   "source": [
    "import pandas as pd\n",
    "data_df = pd.read_json(f'scraper_booking/hotels_data_all_cities.json', orient='index')"
   ]
  },
  {
   "cell_type": "code",
   "execution_count": 5,
   "metadata": {
    "pycharm": {
     "name": "#%%\n"
    }
   },
   "outputs": [
    {
     "data": {
      "text/plain": "      category                                               link  \\\n0       hotels  https://www.booking.com/hotel/rs/apartman-maki...   \n1       hotels  https://www.booking.com/hotel/rs/uzivancija-na...   \n2       hotels  https://www.booking.com/hotel/rs/studija-stoja...   \n3       hotels  https://www.booking.com/hotel/rs/matic-apartma...   \n4       hotels  https://www.booking.com/hotel/rs/apartments-no...   \n...        ...                                                ...   \n10020   hotels  https://www.booking.com/hotel/rs/apartmani-iva...   \n10021   hotels  https://www.booking.com/hotel/rs/vlado-app.sr....   \n10022   hotels  https://www.booking.com/hotel/rs/lodge-brvnara...   \n10023   hotels    https://www.booking.com/hotel/rs/triton.sr.html   \n10024   hotels  https://www.booking.com/hotel/rs/vlado-apartme...   \n\n                  hotel_name  \\\n0                              \n1         Uzivancija na Tari   \n2                              \n3            Matic Apartmani   \n4        Apartments Novi Sad   \n...                      ...   \n10020         Apartments Iva   \n10021        Vlado Apartment   \n10022  Lodge Brvnara Na Brdu   \n10023       Apartment Triton   \n10024     Vlado apartment VS   \n\n                                       hotel_description  \n0      Apartman Maki 1 is situated in Kragujevac. The...  \n1      Objekat Uzivancija na Tari se nalazi u Bajinoj...  \n2      Studija Stojanović is situated in Soko Banja. ...  \n3      Objekat Matić Apartmani je smešten u Vrnjačkoj...  \n4      Objekat Apartments Novi Sad nudi terasu, a nal...  \n...                                                  ...  \n10020  Sve klimatizovane smeštajne jedinice imaju čaj...  \n10021  Objekat Vlado Apartment nudi terasu, besplatan...  \n10022  Ova brvnara sa 2 spavaće sobe ima kuhinju sa f...  \n10023  Smeštaj Apartment Triton se nalazi u Beogradu,...  \n10024  Smeštaj Vlado apartment VS nalazi se u beograd...  \n\n[10025 rows x 4 columns]",
      "text/html": "<div>\n<style scoped>\n    .dataframe tbody tr th:only-of-type {\n        vertical-align: middle;\n    }\n\n    .dataframe tbody tr th {\n        vertical-align: top;\n    }\n\n    .dataframe thead th {\n        text-align: right;\n    }\n</style>\n<table border=\"1\" class=\"dataframe\">\n  <thead>\n    <tr style=\"text-align: right;\">\n      <th></th>\n      <th>category</th>\n      <th>link</th>\n      <th>hotel_name</th>\n      <th>hotel_description</th>\n    </tr>\n  </thead>\n  <tbody>\n    <tr>\n      <th>0</th>\n      <td>hotels</td>\n      <td>https://www.booking.com/hotel/rs/apartman-maki...</td>\n      <td></td>\n      <td>Apartman Maki 1 is situated in Kragujevac. The...</td>\n    </tr>\n    <tr>\n      <th>1</th>\n      <td>hotels</td>\n      <td>https://www.booking.com/hotel/rs/uzivancija-na...</td>\n      <td>Uzivancija na Tari</td>\n      <td>Objekat Uzivancija na Tari se nalazi u Bajinoj...</td>\n    </tr>\n    <tr>\n      <th>2</th>\n      <td>hotels</td>\n      <td>https://www.booking.com/hotel/rs/studija-stoja...</td>\n      <td></td>\n      <td>Studija Stojanović is situated in Soko Banja. ...</td>\n    </tr>\n    <tr>\n      <th>3</th>\n      <td>hotels</td>\n      <td>https://www.booking.com/hotel/rs/matic-apartma...</td>\n      <td>Matic Apartmani</td>\n      <td>Objekat Matić Apartmani je smešten u Vrnjačkoj...</td>\n    </tr>\n    <tr>\n      <th>4</th>\n      <td>hotels</td>\n      <td>https://www.booking.com/hotel/rs/apartments-no...</td>\n      <td>Apartments Novi Sad</td>\n      <td>Objekat Apartments Novi Sad nudi terasu, a nal...</td>\n    </tr>\n    <tr>\n      <th>...</th>\n      <td>...</td>\n      <td>...</td>\n      <td>...</td>\n      <td>...</td>\n    </tr>\n    <tr>\n      <th>10020</th>\n      <td>hotels</td>\n      <td>https://www.booking.com/hotel/rs/apartmani-iva...</td>\n      <td>Apartments Iva</td>\n      <td>Sve klimatizovane smeštajne jedinice imaju čaj...</td>\n    </tr>\n    <tr>\n      <th>10021</th>\n      <td>hotels</td>\n      <td>https://www.booking.com/hotel/rs/vlado-app.sr....</td>\n      <td>Vlado Apartment</td>\n      <td>Objekat Vlado Apartment nudi terasu, besplatan...</td>\n    </tr>\n    <tr>\n      <th>10022</th>\n      <td>hotels</td>\n      <td>https://www.booking.com/hotel/rs/lodge-brvnara...</td>\n      <td>Lodge Brvnara Na Brdu</td>\n      <td>Ova brvnara sa 2 spavaće sobe ima kuhinju sa f...</td>\n    </tr>\n    <tr>\n      <th>10023</th>\n      <td>hotels</td>\n      <td>https://www.booking.com/hotel/rs/triton.sr.html</td>\n      <td>Apartment Triton</td>\n      <td>Smeštaj Apartment Triton se nalazi u Beogradu,...</td>\n    </tr>\n    <tr>\n      <th>10024</th>\n      <td>hotels</td>\n      <td>https://www.booking.com/hotel/rs/vlado-apartme...</td>\n      <td>Vlado apartment VS</td>\n      <td>Smeštaj Vlado apartment VS nalazi se u beograd...</td>\n    </tr>\n  </tbody>\n</table>\n<p>10025 rows × 4 columns</p>\n</div>"
     },
     "execution_count": 5,
     "metadata": {},
     "output_type": "execute_result"
    }
   ],
   "source": [
    "data_df"
   ]
  },
  {
   "cell_type": "code",
   "execution_count": 3,
   "metadata": {
    "pycharm": {
     "name": "#%%\n"
    }
   },
   "outputs": [],
   "source": [
    "out = data_df.to_json(orient='index', indent=4, force_ascii=False)\n",
    "with open(f'test.json', 'w', encoding='utf-8') as f:\n",
    "    f.write(out)"
   ]
  },
  {
   "cell_type": "code",
   "execution_count": 13,
   "metadata": {
    "pycharm": {
     "name": "#%%\n"
    }
   },
   "outputs": [],
   "source": [
    "import pandas as pd\n",
    "data_df2 = pd.read_json(f'test.json', orient='index')"
   ]
  },
  {
   "cell_type": "code",
   "execution_count": 14,
   "outputs": [
    {
     "data": {
      "text/plain": "     category                                               link  \\\n0      hotels  https://www.booking.com/hotel/rs/apartman-maki...   \n1      hotels  https://www.booking.com/hotel/rs/apartman-maki...   \n2      hotels  https://www.booking.com/hotel/rs/uzivancija-na...   \n3      hotels  https://www.booking.com/hotel/rs/uzivancija-na...   \n4      hotels  https://www.booking.com/hotel/rs/apartments-no...   \n...       ...                                                ...   \n8488   hotels  https://www.booking.com/hotel/rs/apartment-ele...   \n8489   hotels  https://www.booking.com/hotel/rs/apartment-ele...   \n8490   hotels  https://www.booking.com/hotel/rs/apartment-ele...   \n8491   hotels  https://www.booking.com/hotel/rs/apartment-ele...   \n8492   hotels  https://www.booking.com/hotel/rs/apartment-ele...   \n\n                                           hotel_review price location  \\\n0     Ljubazni domaćini. Sve na dohvat ruke. Odlična...   n/a        p   \n1     Nema ničeg lošeg. Sve je bilo ok. Ponavljam, z...   n/a      n/a   \n2     Jednom rečju sve... pogled, ambijent za svaku ...   n/a      n/a   \n3                               Bez i ljedne zamerke...   n/a      n/a   \n4     Izvrstan smeštaj i prijatan domaćin.\\nParking ...   n/a      n/a   \n...                                                 ...   ...      ...   \n8488  Sve je bilo odlično. Čisto, uredno, kompletno ...   n/a      n/a   \n8489    Top lokacija jako blizu centra, udobno i čisto.   n/a      n/a   \n8490  Dopala nam se lokacija aprtmana, u blizini je ...   n/a      n/a   \n8491                            Nemam nikakvih zamerki.   n/a      n/a   \n8492  Apartman nije ispunio moja očekivanja što se t...   n/a      n/a   \n\n     cleanliness_room staff  \n0                   p     p  \n1                 n/a   n/a  \n2                 n/a   n/a  \n3                 n/a   n/a  \n4                 n/a   n/a  \n...               ...   ...  \n8488              n/a   n/a  \n8489              n/a   n/a  \n8490              n/a   n/a  \n8491              n/a   n/a  \n8492              n/a   n/a  \n\n[8493 rows x 7 columns]",
      "text/html": "<div>\n<style scoped>\n    .dataframe tbody tr th:only-of-type {\n        vertical-align: middle;\n    }\n\n    .dataframe tbody tr th {\n        vertical-align: top;\n    }\n\n    .dataframe thead th {\n        text-align: right;\n    }\n</style>\n<table border=\"1\" class=\"dataframe\">\n  <thead>\n    <tr style=\"text-align: right;\">\n      <th></th>\n      <th>category</th>\n      <th>link</th>\n      <th>hotel_review</th>\n      <th>price</th>\n      <th>location</th>\n      <th>cleanliness_room</th>\n      <th>staff</th>\n    </tr>\n  </thead>\n  <tbody>\n    <tr>\n      <th>0</th>\n      <td>hotels</td>\n      <td>https://www.booking.com/hotel/rs/apartman-maki...</td>\n      <td>Ljubazni domaćini. Sve na dohvat ruke. Odlična...</td>\n      <td>n/a</td>\n      <td>p</td>\n      <td>p</td>\n      <td>p</td>\n    </tr>\n    <tr>\n      <th>1</th>\n      <td>hotels</td>\n      <td>https://www.booking.com/hotel/rs/apartman-maki...</td>\n      <td>Nema ničeg lošeg. Sve je bilo ok. Ponavljam, z...</td>\n      <td>n/a</td>\n      <td>n/a</td>\n      <td>n/a</td>\n      <td>n/a</td>\n    </tr>\n    <tr>\n      <th>2</th>\n      <td>hotels</td>\n      <td>https://www.booking.com/hotel/rs/uzivancija-na...</td>\n      <td>Jednom rečju sve... pogled, ambijent za svaku ...</td>\n      <td>n/a</td>\n      <td>n/a</td>\n      <td>n/a</td>\n      <td>n/a</td>\n    </tr>\n    <tr>\n      <th>3</th>\n      <td>hotels</td>\n      <td>https://www.booking.com/hotel/rs/uzivancija-na...</td>\n      <td>Bez i ljedne zamerke...</td>\n      <td>n/a</td>\n      <td>n/a</td>\n      <td>n/a</td>\n      <td>n/a</td>\n    </tr>\n    <tr>\n      <th>4</th>\n      <td>hotels</td>\n      <td>https://www.booking.com/hotel/rs/apartments-no...</td>\n      <td>Izvrstan smeštaj i prijatan domaćin.\\nParking ...</td>\n      <td>n/a</td>\n      <td>n/a</td>\n      <td>n/a</td>\n      <td>n/a</td>\n    </tr>\n    <tr>\n      <th>...</th>\n      <td>...</td>\n      <td>...</td>\n      <td>...</td>\n      <td>...</td>\n      <td>...</td>\n      <td>...</td>\n      <td>...</td>\n    </tr>\n    <tr>\n      <th>8488</th>\n      <td>hotels</td>\n      <td>https://www.booking.com/hotel/rs/apartment-ele...</td>\n      <td>Sve je bilo odlično. Čisto, uredno, kompletno ...</td>\n      <td>n/a</td>\n      <td>n/a</td>\n      <td>n/a</td>\n      <td>n/a</td>\n    </tr>\n    <tr>\n      <th>8489</th>\n      <td>hotels</td>\n      <td>https://www.booking.com/hotel/rs/apartment-ele...</td>\n      <td>Top lokacija jako blizu centra, udobno i čisto.</td>\n      <td>n/a</td>\n      <td>n/a</td>\n      <td>n/a</td>\n      <td>n/a</td>\n    </tr>\n    <tr>\n      <th>8490</th>\n      <td>hotels</td>\n      <td>https://www.booking.com/hotel/rs/apartment-ele...</td>\n      <td>Dopala nam se lokacija aprtmana, u blizini je ...</td>\n      <td>n/a</td>\n      <td>n/a</td>\n      <td>n/a</td>\n      <td>n/a</td>\n    </tr>\n    <tr>\n      <th>8491</th>\n      <td>hotels</td>\n      <td>https://www.booking.com/hotel/rs/apartment-ele...</td>\n      <td>Nemam nikakvih zamerki.</td>\n      <td>n/a</td>\n      <td>n/a</td>\n      <td>n/a</td>\n      <td>n/a</td>\n    </tr>\n    <tr>\n      <th>8492</th>\n      <td>hotels</td>\n      <td>https://www.booking.com/hotel/rs/apartment-ele...</td>\n      <td>Apartman nije ispunio moja očekivanja što se t...</td>\n      <td>n/a</td>\n      <td>n/a</td>\n      <td>n/a</td>\n      <td>n/a</td>\n    </tr>\n  </tbody>\n</table>\n<p>8493 rows × 7 columns</p>\n</div>"
     },
     "execution_count": 14,
     "metadata": {},
     "output_type": "execute_result"
    }
   ],
   "source": [
    "data_df2"
   ],
   "metadata": {
    "collapsed": false,
    "pycharm": {
     "name": "#%%\n"
    }
   }
  },
  {
   "cell_type": "code",
   "execution_count": 15,
   "outputs": [
    {
     "name": "stdout",
     "output_type": "stream",
     "text": [
      "CPU times: total: 15.6 ms\n",
      "Wall time: 21 ms\n"
     ]
    }
   ],
   "source": [
    "%%time\n",
    "data_df2.to_json('test.json', orient='index')"
   ],
   "metadata": {
    "collapsed": false,
    "pycharm": {
     "name": "#%%\n"
    }
   }
  },
  {
   "cell_type": "code",
   "execution_count": 23,
   "outputs": [],
   "source": [
    "# load reviews\n",
    "df = pd.read_json(f'scraper_booking/hotels_reviews_data_0_1000.json', orient='index')\n",
    "entities = ['price', 'location', 'cleanliness_room', 'staff']\n",
    "for entity in entities:\n",
    "    df[entity] = 'n/a'\n",
    "# save progress to file\n",
    "out = df.to_json(orient='index', indent=4, force_ascii=False)\n",
    "with open(f'hotels_reviews_annotated_0_1000.json', 'w', encoding='utf-8') as f:\n",
    "    f.write(out)"
   ],
   "metadata": {
    "collapsed": false,
    "pycharm": {
     "name": "#%%\n"
    }
   }
  },
  {
   "cell_type": "code",
   "execution_count": null,
   "outputs": [],
   "source": [],
   "metadata": {
    "collapsed": false,
    "pycharm": {
     "name": "#%%\n"
    }
   }
  }
 ],
 "metadata": {
  "interpreter": {
   "hash": "e34b170828573956425812b9e6b7e6374f6f2417efff6ebd62285e0cdecca193"
  },
  "kernelspec": {
   "display_name": "Python 3.10.4 ('opj')",
   "language": "python",
   "name": "python3"
  },
  "language_info": {
   "codemirror_mode": {
    "name": "ipython",
    "version": 3
   },
   "file_extension": ".py",
   "mimetype": "text/x-python",
   "name": "python",
   "nbconvert_exporter": "python",
   "pygments_lexer": "ipython3",
   "version": "3.10.4"
  },
  "orig_nbformat": 4
 },
 "nbformat": 4,
 "nbformat_minor": 2
}