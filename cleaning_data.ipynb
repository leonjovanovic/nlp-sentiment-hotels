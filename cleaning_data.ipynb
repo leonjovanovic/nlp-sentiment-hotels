{
 "cells": [
  {
   "cell_type": "code",
   "execution_count": 3,
   "metadata": {},
   "outputs": [
    {
     "name": "stderr",
     "output_type": "stream",
     "text": [
      "d:\\Users\\Leon Jovanovic\\anaconda3\\envs\\opj\\lib\\site-packages\\tqdm\\auto.py:22: TqdmWarning: IProgress not found. Please update jupyter and ipywidgets. See https://ipywidgets.readthedocs.io/en/stable/user_install.html\n",
      "  from .autonotebook import tqdm as notebook_tqdm\n"
     ]
    },
    {
     "name": "stdout",
     "output_type": "stream",
     "text": [
      "INFO: Pandarallel will run on 6 workers.\n",
      "INFO: Pandarallel will use standard multiprocessing data transfer (pipe) to transfer data between the main process and workers.\n",
      "\n",
      "WARNING: You are on Windows. If you detect any issue with pandarallel, be sure you checked out the Troubleshooting page:\n",
      "https://nalepae.github.io/pandarallel/troubleshooting/\n"
     ]
    }
   ],
   "source": [
    "from collections import Counter\n",
    "import pandas as pd\n",
    "import spacy\n",
    "from spacy_langdetect import LanguageDetector\n",
    "from spacy.language import Language\n",
    "from collections import Counter\n",
    "from pandarallel import pandarallel\n",
    "pandarallel.initialize()"
   ]
  },
  {
   "cell_type": "code",
   "execution_count": 2,
   "metadata": {},
   "outputs": [],
   "source": [
    "@Language.factory('language_detector')\n",
    "def language_detector(nlp, name):\n",
    "    return LanguageDetector()"
   ]
  },
  {
   "cell_type": "code",
   "execution_count": 3,
   "metadata": {},
   "outputs": [],
   "source": [
    "\n",
    "data = pd.DataFrame()\n",
    "for slice in range(0, 8000, 1000):\n",
    "    data = pd.concat([data, pd.read_json(f'scraper_booking/hotels_reviews_data_{slice}_{slice + 1000}.json', orient='index')])\n",
    "data.reset_index(drop=True, inplace=True)"
   ]
  },
  {
   "cell_type": "code",
   "execution_count": 4,
   "metadata": {},
   "outputs": [],
   "source": [
    "data.hotel_review = data.hotel_review.apply(lambda x: x.strip().replace('\\n', ' '))"
   ]
  },
  {
   "cell_type": "code",
   "execution_count": 5,
   "metadata": {},
   "outputs": [
    {
     "data": {
      "text/plain": [
       "<spacy_langdetect.spacy_langdetect.LanguageDetector at 0x12f767d3f70>"
      ]
     },
     "execution_count": 5,
     "metadata": {},
     "output_type": "execute_result"
    }
   ],
   "source": [
    "nlp = spacy.load(\"en_core_web_sm\")\n",
    "nlp.add_pipe('language_detector', last=True)"
   ]
  },
  {
   "cell_type": "code",
   "execution_count": 7,
   "metadata": {},
   "outputs": [
    {
     "name": "stdout",
     "output_type": "stream",
     "text": [
      "CPU times: total: 39min 32s\n",
      "Wall time: 39min 53s\n"
     ]
    }
   ],
   "source": [
    "%%time\n",
    "data['language'] = data['hotel_review'].apply(lambda x: nlp(x)._.language['language'])"
   ]
  },
  {
   "cell_type": "code",
   "execution_count": 23,
   "metadata": {},
   "outputs": [
    {
     "data": {
      "text/plain": [
       "Counter({'hr': 78769, 'sl': 23162})"
      ]
     },
     "execution_count": 23,
     "metadata": {},
     "output_type": "execute_result"
    }
   ],
   "source": [
    "Counter(data_lang.language.to_list())"
   ]
  },
  {
   "cell_type": "code",
   "execution_count": 21,
   "metadata": {},
   "outputs": [],
   "source": [
    "data_lang = data[(data.language == 'sl') | (data.language == 'hr')]\n",
    "data_lang.reset_index(drop=True, inplace=True)\n",
    "data_lang.to_json(\"reviews_lang.json\", orient='index')"
   ]
  },
  {
   "cell_type": "code",
   "execution_count": 25,
   "metadata": {},
   "outputs": [],
   "source": [
    "data.to_json(\"data/reviews_all_lang.json\", orient='index')"
   ]
  },
  {
   "cell_type": "code",
   "execution_count": 26,
   "metadata": {},
   "outputs": [
    {
     "data": {
      "text/plain": [
       "[5, 6, 7, 8]"
      ]
     },
     "execution_count": 26,
     "metadata": {},
     "output_type": "execute_result"
    }
   ],
   "source": [
    "li = [1,2,3,4,5,6,7,8]\n",
    "li[-4:]"
   ]
  },
  {
   "cell_type": "code",
   "execution_count": 34,
   "metadata": {},
   "outputs": [
    {
     "data": {
      "text/plain": [
       "category                                                   hotels\n",
       "hotel_review    Ljubazni domaćini. Sve na dohvat ruke. Odlična...\n",
       "Name: 0, dtype: object"
      ]
     },
     "execution_count": 34,
     "metadata": {},
     "output_type": "execute_result"
    }
   ],
   "source": [
    "data[['category','hotel_review']].loc[0]"
   ]
  },
  {
   "cell_type": "markdown",
   "metadata": {},
   "source": [
    "## Shuffle data"
   ]
  },
  {
   "cell_type": "code",
   "execution_count": 36,
   "metadata": {},
   "outputs": [],
   "source": [
    "from sklearn.utils import shuffle\n",
    "df = pd.read_json('data/reviews_lang.json', orient='index')\n",
    "df = shuffle(df, random_state=0)\n",
    "df.reset_index(drop=True, inplace=True)\n",
    "# Add 4 label columns\n",
    "entities = ['amenities', 'location', 'cleanliness', 'staff']\n",
    "for entity in entities:\n",
    "    df[entity] = 'n/a'\n",
    "# Split to two\n",
    "df1 = df.iloc[:len(df)//2, :].reset_index(drop=True)\n",
    "df2 = df.iloc[len(df)//2:, :].reset_index(drop=True)\n",
    "# save progress to file\n",
    "for idx, df in enumerate([df1, df2]):\n",
    "    out = df.to_json(orient='index', indent=4, force_ascii=False)\n",
    "    with open(f'data/annotated_reviews_lang_{idx + 1}.json', 'w', encoding='utf-8') as f:\n",
    "        f.write(out)"
   ]
  },
  {
   "cell_type": "code",
   "execution_count": 45,
   "metadata": {},
   "outputs": [],
   "source": [
    "class ListNode:\n",
    "    def __init__(self, value=0, next=None):\n",
    "        self.value = value\n",
    "        self.next = next"
   ]
  },
  {
   "cell_type": "code",
   "execution_count": 53,
   "metadata": {},
   "outputs": [],
   "source": [
    "a = ListNode(5, None)\n",
    "list = a\n",
    "b = ListNode(7, None)\n",
    "a.next = b\n",
    "c = ListNode(12, None)\n",
    "b.next = c\n",
    "d = ListNode(2, None)\n",
    "c.next = d"
   ]
  },
  {
   "cell_type": "code",
   "execution_count": 56,
   "metadata": {},
   "outputs": [],
   "source": [
    "\n",
    "new_elem = ListNode(24, list)\n",
    "list = new_elem\n"
   ]
  },
  {
   "cell_type": "code",
   "execution_count": 58,
   "metadata": {},
   "outputs": [],
   "source": [
    "tmp = list\n",
    "list = list.next\n",
    "del tmp"
   ]
  },
  {
   "cell_type": "code",
   "execution_count": 59,
   "metadata": {},
   "outputs": [
    {
     "name": "stdout",
     "output_type": "stream",
     "text": [
      "5\n",
      "7\n",
      "12\n",
      "2\n"
     ]
    }
   ],
   "source": [
    "curr = list\n",
    "while curr.next:\n",
    "    print(curr.value)\n",
    "    curr = curr.next\n",
    "print(curr.value)"
   ]
  },
  {
   "cell_type": "code",
   "execution_count": 1,
   "metadata": {},
   "outputs": [],
   "source": [
    "def and_list(X: list) -> int:\n",
    "  result = X[0]\n",
    "  for i in range(1, len(X)):\n",
    "    result = result & X[i]\n",
    "  return result"
   ]
  },
  {
   "cell_type": "code",
   "execution_count": 26,
   "metadata": {},
   "outputs": [],
   "source": [
    "def xor_list(X: list) -> int:\n",
    "  result = X[0]\n",
    "  for i in range(1, len(X)):\n",
    "    result = result ^ X[i]\n",
    "  return result"
   ]
  },
  {
   "cell_type": "code",
   "execution_count": 25,
   "metadata": {},
   "outputs": [],
   "source": [
    "def f(X: list) -> int:\n",
    "  if len(X) == 0:\n",
    "    return 0\n",
    "  sublist_xors = []\n",
    "  # for each sublist length\n",
    "  for sublist_len in range(1, len(X) + 1):\n",
    "    # get all sublists for that length\n",
    "    for i in range(0, len(X) - sublist_len + 1):\n",
    "      sublist_xors.append(xor_list(X[i:i+sublist_len]))\n",
    "      print(sublist_len, i)\n",
    "  print(sublist_xors)\n",
    "  return and_list(sublist_xors)"
   ]
  },
  {
   "cell_type": "code",
   "execution_count": 27,
   "metadata": {},
   "outputs": [
    {
     "name": "stdout",
     "output_type": "stream",
     "text": [
      "1 0\n",
      "1 1\n",
      "2 0\n",
      "[3, 5, 6]\n"
     ]
    },
    {
     "data": {
      "text/plain": [
       "0"
      ]
     },
     "execution_count": 27,
     "metadata": {},
     "output_type": "execute_result"
    }
   ],
   "source": [
    "X = [3, 5, 1]\n",
    "f(X)"
   ]
  },
  {
   "cell_type": "code",
   "execution_count": null,
   "metadata": {},
   "outputs": [],
   "source": []
  }
 ],
 "metadata": {
  "kernelspec": {
   "display_name": "Python 3.10.4 ('opj')",
   "language": "python",
   "name": "python3"
  },
  "language_info": {
   "codemirror_mode": {
    "name": "ipython",
    "version": 3
   },
   "file_extension": ".py",
   "mimetype": "text/x-python",
   "name": "python",
   "nbconvert_exporter": "python",
   "pygments_lexer": "ipython3",
   "version": "3.10.4"
  },
  "orig_nbformat": 4,
  "vscode": {
   "interpreter": {
    "hash": "e34b170828573956425812b9e6b7e6374f6f2417efff6ebd62285e0cdecca193"
   }
  }
 },
 "nbformat": 4,
 "nbformat_minor": 2
}
