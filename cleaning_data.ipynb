{
 "cells": [
  {
   "cell_type": "code",
   "execution_count": 1,
   "metadata": {},
   "outputs": [
    {
     "name": "stdout",
     "output_type": "stream",
     "text": [
      "INFO: Pandarallel will run on 6 workers.\n",
      "INFO: Pandarallel will use standard multiprocessing data transfer (pipe) to transfer data between the main process and workers.\n",
      "\n",
      "WARNING: You are on Windows. If you detect any issue with pandarallel, be sure you checked out the Troubleshooting page:\n",
      "https://nalepae.github.io/pandarallel/troubleshooting/\n"
     ]
    }
   ],
   "source": [
    "from collections import Counter\n",
    "import pandas as pd\n",
    "import spacy\n",
    "from spacy_langdetect import LanguageDetector\n",
    "from spacy.language import Language\n",
    "from collections import Counter\n",
    "from pandarallel import pandarallel\n",
    "pandarallel.initialize()"
   ]
  },
  {
   "cell_type": "code",
   "execution_count": 2,
   "metadata": {},
   "outputs": [],
   "source": [
    "@Language.factory('language_detector')\n",
    "def language_detector(nlp, name):\n",
    "    return LanguageDetector()"
   ]
  },
  {
   "cell_type": "code",
   "execution_count": 2,
   "metadata": {},
   "outputs": [],
   "source": [
    "\n",
    "data = pd.DataFrame()\n",
    "for slice in range(0, 8000, 1000):\n",
    "    data = pd.concat([data, pd.read_json(f'scraper_booking/hotels_reviews_data_{slice}_{slice + 1000}.json', orient='index')])\n",
    "data.reset_index(drop=True, inplace=True)"
   ]
  },
  {
   "cell_type": "code",
   "execution_count": 3,
   "metadata": {},
   "outputs": [
    {
     "data": {
      "text/html": [
       "<div>\n",
       "<style scoped>\n",
       "    .dataframe tbody tr th:only-of-type {\n",
       "        vertical-align: middle;\n",
       "    }\n",
       "\n",
       "    .dataframe tbody tr th {\n",
       "        vertical-align: top;\n",
       "    }\n",
       "\n",
       "    .dataframe thead th {\n",
       "        text-align: right;\n",
       "    }\n",
       "</style>\n",
       "<table border=\"1\" class=\"dataframe\">\n",
       "  <thead>\n",
       "    <tr style=\"text-align: right;\">\n",
       "      <th></th>\n",
       "      <th>category</th>\n",
       "      <th>link</th>\n",
       "      <th>hotel_review</th>\n",
       "    </tr>\n",
       "  </thead>\n",
       "  <tbody>\n",
       "    <tr>\n",
       "      <th>0</th>\n",
       "      <td>hotels</td>\n",
       "      <td>https://www.booking.com/hotel/rs/apartman-maki...</td>\n",
       "      <td>Ljubazni domaćini. Sve na dohvat ruke. Odlična...</td>\n",
       "    </tr>\n",
       "    <tr>\n",
       "      <th>1</th>\n",
       "      <td>hotels</td>\n",
       "      <td>https://www.booking.com/hotel/rs/apartman-maki...</td>\n",
       "      <td>Nema ničeg lošeg. Sve je bilo ok. Ponavljam, z...</td>\n",
       "    </tr>\n",
       "    <tr>\n",
       "      <th>2</th>\n",
       "      <td>hotels</td>\n",
       "      <td>https://www.booking.com/hotel/rs/uzivancija-na...</td>\n",
       "      <td>Jednom rečju sve... pogled, ambijent za svaku ...</td>\n",
       "    </tr>\n",
       "    <tr>\n",
       "      <th>3</th>\n",
       "      <td>hotels</td>\n",
       "      <td>https://www.booking.com/hotel/rs/uzivancija-na...</td>\n",
       "      <td>Bez i ljedne zamerke...</td>\n",
       "    </tr>\n",
       "    <tr>\n",
       "      <th>4</th>\n",
       "      <td>hotels</td>\n",
       "      <td>https://www.booking.com/hotel/rs/apartments-no...</td>\n",
       "      <td>Izvrstan smeštaj i prijatan domaćin.\\nParking ...</td>\n",
       "    </tr>\n",
       "    <tr>\n",
       "      <th>...</th>\n",
       "      <td>...</td>\n",
       "      <td>...</td>\n",
       "      <td>...</td>\n",
       "    </tr>\n",
       "    <tr>\n",
       "      <th>111735</th>\n",
       "      <td>hotels</td>\n",
       "      <td>https://www.booking.com/hotel/rs/apartman-gord...</td>\n",
       "      <td>Sve pohvale i preporuke!!</td>\n",
       "    </tr>\n",
       "    <tr>\n",
       "      <th>111736</th>\n",
       "      <td>hotels</td>\n",
       "      <td>https://www.booking.com/hotel/rs/apartman-gord...</td>\n",
       "      <td>Lokacija odlična, sve je bilo super!</td>\n",
       "    </tr>\n",
       "    <tr>\n",
       "      <th>111737</th>\n",
       "      <td>hotels</td>\n",
       "      <td>https://www.booking.com/hotel/rs/apartman-gord...</td>\n",
       "      <td>Apartman je mnogo lepši nego što sam očekivala...</td>\n",
       "    </tr>\n",
       "    <tr>\n",
       "      <th>111738</th>\n",
       "      <td>hotels</td>\n",
       "      <td>https://www.booking.com/hotel/rs/apartman-padr...</td>\n",
       "      <td>Sve,hrana,domaćini...!!!</td>\n",
       "    </tr>\n",
       "    <tr>\n",
       "      <th>111739</th>\n",
       "      <td>hotels</td>\n",
       "      <td>https://www.booking.com/hotel/rs/apartman-padr...</td>\n",
       "      <td>Svaka čast,na svemu!!!</td>\n",
       "    </tr>\n",
       "  </tbody>\n",
       "</table>\n",
       "<p>111740 rows × 3 columns</p>\n",
       "</div>"
      ],
      "text/plain": [
       "       category                                               link  \\\n",
       "0        hotels  https://www.booking.com/hotel/rs/apartman-maki...   \n",
       "1        hotels  https://www.booking.com/hotel/rs/apartman-maki...   \n",
       "2        hotels  https://www.booking.com/hotel/rs/uzivancija-na...   \n",
       "3        hotels  https://www.booking.com/hotel/rs/uzivancija-na...   \n",
       "4        hotels  https://www.booking.com/hotel/rs/apartments-no...   \n",
       "...         ...                                                ...   \n",
       "111735   hotels  https://www.booking.com/hotel/rs/apartman-gord...   \n",
       "111736   hotels  https://www.booking.com/hotel/rs/apartman-gord...   \n",
       "111737   hotels  https://www.booking.com/hotel/rs/apartman-gord...   \n",
       "111738   hotels  https://www.booking.com/hotel/rs/apartman-padr...   \n",
       "111739   hotels  https://www.booking.com/hotel/rs/apartman-padr...   \n",
       "\n",
       "                                             hotel_review  \n",
       "0       Ljubazni domaćini. Sve na dohvat ruke. Odlična...  \n",
       "1       Nema ničeg lošeg. Sve je bilo ok. Ponavljam, z...  \n",
       "2       Jednom rečju sve... pogled, ambijent za svaku ...  \n",
       "3                                 Bez i ljedne zamerke...  \n",
       "4       Izvrstan smeštaj i prijatan domaćin.\\nParking ...  \n",
       "...                                                   ...  \n",
       "111735                          Sve pohvale i preporuke!!  \n",
       "111736               Lokacija odlična, sve je bilo super!  \n",
       "111737  Apartman je mnogo lepši nego što sam očekivala...  \n",
       "111738                           Sve,hrana,domaćini...!!!  \n",
       "111739                             Svaka čast,na svemu!!!  \n",
       "\n",
       "[111740 rows x 3 columns]"
      ]
     },
     "execution_count": 3,
     "metadata": {},
     "output_type": "execute_result"
    }
   ],
   "source": [
    "data"
   ]
  },
  {
   "cell_type": "code",
   "execution_count": 4,
   "metadata": {},
   "outputs": [],
   "source": [
    "data.hotel_review = data.hotel_review.apply(lambda x: x.strip().replace('\\n', ' '))"
   ]
  },
  {
   "cell_type": "code",
   "execution_count": 5,
   "metadata": {},
   "outputs": [
    {
     "data": {
      "text/plain": [
       "<spacy_langdetect.spacy_langdetect.LanguageDetector at 0x12f767d3f70>"
      ]
     },
     "execution_count": 5,
     "metadata": {},
     "output_type": "execute_result"
    }
   ],
   "source": [
    "nlp = spacy.load(\"en_core_web_sm\")\n",
    "nlp.add_pipe('language_detector', last=True)"
   ]
  },
  {
   "cell_type": "code",
   "execution_count": 7,
   "metadata": {},
   "outputs": [
    {
     "name": "stdout",
     "output_type": "stream",
     "text": [
      "CPU times: total: 39min 32s\n",
      "Wall time: 39min 53s\n"
     ]
    }
   ],
   "source": [
    "%%time\n",
    "data['language'] = data['hotel_review'].apply(lambda x: nlp(x)._.language['language'])"
   ]
  },
  {
   "cell_type": "code",
   "execution_count": 23,
   "metadata": {},
   "outputs": [
    {
     "data": {
      "text/plain": [
       "Counter({'hr': 78769, 'sl': 23162})"
      ]
     },
     "execution_count": 23,
     "metadata": {},
     "output_type": "execute_result"
    }
   ],
   "source": [
    "Counter(data_lang.language.to_list())"
   ]
  },
  {
   "cell_type": "code",
   "execution_count": 21,
   "metadata": {},
   "outputs": [],
   "source": [
    "data_lang = data[(data.language == 'sl') | (data.language == 'hr')]\n",
    "data_lang.reset_index(drop=True, inplace=True)\n",
    "data_lang.to_json(\"reviews_lang.json\", orient='index')"
   ]
  },
  {
   "cell_type": "code",
   "execution_count": 25,
   "metadata": {},
   "outputs": [],
   "source": [
    "data.to_json(\"data/reviews_all_lang.json\", orient='index')"
   ]
  },
  {
   "cell_type": "code",
   "execution_count": 34,
   "metadata": {},
   "outputs": [
    {
     "data": {
      "text/plain": [
       "category                                                   hotels\n",
       "hotel_review    Ljubazni domaćini. Sve na dohvat ruke. Odlična...\n",
       "Name: 0, dtype: object"
      ]
     },
     "execution_count": 34,
     "metadata": {},
     "output_type": "execute_result"
    }
   ],
   "source": [
    "data[['category','hotel_review']].loc[0]"
   ]
  },
  {
   "cell_type": "markdown",
   "metadata": {},
   "source": [
    "## Shuffle data"
   ]
  },
  {
   "cell_type": "code",
   "execution_count": 36,
   "metadata": {},
   "outputs": [],
   "source": [
    "from sklearn.utils import shuffle\n",
    "df = pd.read_json('data/reviews_lang.json', orient='index')\n",
    "df = shuffle(df, random_state=0)\n",
    "df.reset_index(drop=True, inplace=True)\n",
    "# Add 4 label columns\n",
    "entities = ['amenities', 'location', 'cleanliness', 'staff']\n",
    "for entity in entities:\n",
    "    df[entity] = 'n/a'\n",
    "# Split to two\n",
    "df1 = df.iloc[:len(df)//2, :].reset_index(drop=True)\n",
    "df2 = df.iloc[len(df)//2:, :].reset_index(drop=True)\n",
    "# save progress to file\n",
    "for idx, df in enumerate([df1, df2]):\n",
    "    out = df.to_json(orient='index', indent=4, force_ascii=False)\n",
    "    with open(f'data/annotated_reviews_lang_{idx + 1}.json', 'w', encoding='utf-8') as f:\n",
    "        f.write(out)"
   ]
  },
  {
   "cell_type": "markdown",
   "metadata": {},
   "source": [
    "## Callibrating annotation"
   ]
  },
  {
   "cell_type": "code",
   "execution_count": null,
   "metadata": {},
   "outputs": [],
   "source": [
    "df1 = pd.read_json(f'data/annotated_reviews_lang_1.json', orient='index')\n",
    "df1 = df1.iloc[:150,:]\n",
    "df2 = pd.read_json(f'data/annotated_reviews_lang_2.json', orient='index')"
   ]
  },
  {
   "cell_type": "markdown",
   "metadata": {},
   "source": [
    "## JSON to UTF"
   ]
  },
  {
   "cell_type": "markdown",
   "metadata": {},
   "source": [
    "### Scraped reviews"
   ]
  },
  {
   "cell_type": "code",
   "execution_count": 6,
   "metadata": {},
   "outputs": [],
   "source": [
    "scraped_reviews = pd.read_json('data/reviews_lang.json', orient='index')"
   ]
  },
  {
   "cell_type": "code",
   "execution_count": 26,
   "metadata": {},
   "outputs": [],
   "source": [
    "with open('data/scraped_data.txt', 'w', encoding='utf-8') as f:\n",
    "    text = scraped_reviews.to_csv(header=False, index=False, columns=['category', 'link', 'hotel_review'], sep='\\t', line_terminator='\\n')\n",
    "    f.write(text)"
   ]
  },
  {
   "cell_type": "markdown",
   "metadata": {},
   "source": [
    "### Annotated reviews"
   ]
  },
  {
   "cell_type": "code",
   "execution_count": 34,
   "metadata": {},
   "outputs": [],
   "source": [
    "df1 = pd.read_json(f'data/annotated_reviews_lang_1.json', orient='index')\n",
    "df2 = pd.read_json(f'data/annotated_reviews_lang_2.json', orient='index')\n",
    "annotated_reviews = pd.concat([df1, df2])\n",
    "annotated_reviews = annotated_reviews.drop(axis=1, columns=['language'])\n",
    "annotated_reviews = annotated_reviews[(annotated_reviews.amenities != 'n/a') & (annotated_reviews.amenities != 'skipped')]\n",
    "annotated_reviews.drop_duplicates(inplace=True)\n",
    "columns = annotated_reviews.columns\n",
    "def map_entities(x):\n",
    "    for column in range(3, len(x)):\n",
    "        if x[column] == '':\n",
    "            continue\n",
    "        elif x[column] == 'n':\n",
    "            x[column] = f'({columns[column]}, NEG);'\n",
    "        else:\n",
    "            x[column] = f'({columns[column]}, POS);'\n",
    "    return x\n",
    "annotated_reviews = annotated_reviews.apply(lambda x: map_entities(x), axis=1)\n",
    "annotated_reviews.reset_index(drop=True, inplace=True)"
   ]
  },
  {
   "cell_type": "code",
   "execution_count": 35,
   "metadata": {},
   "outputs": [],
   "source": [
    "with open('data/annotated_data.txt', 'w', encoding='utf-8') as f:\n",
    "    text = annotated_reviews.to_csv(header=False, index=False, sep='\\t', line_terminator='\\n')\n",
    "    f.write(text)"
   ]
  }
 ],
 "metadata": {
  "kernelspec": {
   "display_name": "Python 3.10.4 ('opj')",
   "language": "python",
   "name": "python3"
  },
  "language_info": {
   "codemirror_mode": {
    "name": "ipython",
    "version": 3
   },
   "file_extension": ".py",
   "mimetype": "text/x-python",
   "name": "python",
   "nbconvert_exporter": "python",
   "pygments_lexer": "ipython3",
   "version": "3.10.4"
  },
  "orig_nbformat": 4,
  "vscode": {
   "interpreter": {
    "hash": "e34b170828573956425812b9e6b7e6374f6f2417efff6ebd62285e0cdecca193"
   }
  }
 },
 "nbformat": 4,
 "nbformat_minor": 2
}
