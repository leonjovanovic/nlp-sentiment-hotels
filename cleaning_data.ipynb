{
 "cells": [
  {
   "cell_type": "code",
   "execution_count": 1,
   "metadata": {},
   "outputs": [
    {
     "name": "stderr",
     "output_type": "stream",
     "text": [
      "d:\\Users\\Leon Jovanovic\\anaconda3\\envs\\opj\\lib\\site-packages\\tqdm\\auto.py:22: TqdmWarning: IProgress not found. Please update jupyter and ipywidgets. See https://ipywidgets.readthedocs.io/en/stable/user_install.html\n",
      "  from .autonotebook import tqdm as notebook_tqdm\n"
     ]
    },
    {
     "name": "stdout",
     "output_type": "stream",
     "text": [
      "INFO: Pandarallel will run on 6 workers.\n",
      "INFO: Pandarallel will use standard multiprocessing data transfer (pipe) to transfer data between the main process and workers.\n",
      "\n",
      "WARNING: You are on Windows. If you detect any issue with pandarallel, be sure you checked out the Troubleshooting page:\n",
      "https://nalepae.github.io/pandarallel/troubleshooting/\n"
     ]
    }
   ],
   "source": [
    "from collections import Counter\n",
    "import pandas as pd\n",
    "import spacy\n",
    "from spacy_langdetect import LanguageDetector\n",
    "from spacy.language import Language\n",
    "from collections import Counter\n",
    "from pandarallel import pandarallel\n",
    "pandarallel.initialize()"
   ]
  },
  {
   "cell_type": "code",
   "execution_count": 2,
   "metadata": {},
   "outputs": [],
   "source": [
    "@Language.factory('language_detector')\n",
    "def language_detector(nlp, name):\n",
    "    return LanguageDetector()"
   ]
  },
  {
   "cell_type": "code",
   "execution_count": 3,
   "metadata": {},
   "outputs": [],
   "source": [
    "\n",
    "data = pd.DataFrame()\n",
    "for slice in range(0, 8000, 1000):\n",
    "    data = pd.concat([data, pd.read_json(f'scraper_booking/hotels_reviews_data_{slice}_{slice + 1000}.json', orient='index')])\n",
    "data.reset_index(drop=True, inplace=True)"
   ]
  },
  {
   "cell_type": "code",
   "execution_count": 4,
   "metadata": {},
   "outputs": [],
   "source": [
    "data.hotel_review = data.hotel_review.apply(lambda x: x.strip().replace('\\n', ' '))"
   ]
  },
  {
   "cell_type": "code",
   "execution_count": 5,
   "metadata": {},
   "outputs": [
    {
     "data": {
      "text/plain": [
       "<spacy_langdetect.spacy_langdetect.LanguageDetector at 0x12f767d3f70>"
      ]
     },
     "execution_count": 5,
     "metadata": {},
     "output_type": "execute_result"
    }
   ],
   "source": [
    "nlp = spacy.load(\"en_core_web_sm\")\n",
    "nlp.add_pipe('language_detector', last=True)"
   ]
  },
  {
   "cell_type": "code",
   "execution_count": 7,
   "metadata": {},
   "outputs": [
    {
     "name": "stdout",
     "output_type": "stream",
     "text": [
      "CPU times: total: 39min 32s\n",
      "Wall time: 39min 53s\n"
     ]
    }
   ],
   "source": [
    "%%time\n",
    "data['language'] = data['hotel_review'].apply(lambda x: nlp(x)._.language['language'])"
   ]
  },
  {
   "cell_type": "code",
   "execution_count": 23,
   "metadata": {},
   "outputs": [
    {
     "data": {
      "text/plain": [
       "Counter({'hr': 78769, 'sl': 23162})"
      ]
     },
     "execution_count": 23,
     "metadata": {},
     "output_type": "execute_result"
    }
   ],
   "source": [
    "Counter(data_lang.language.to_list())"
   ]
  },
  {
   "cell_type": "code",
   "execution_count": 21,
   "metadata": {},
   "outputs": [],
   "source": [
    "data_lang = data[(data.language == 'sl') | (data.language == 'hr')]\n",
    "data_lang.reset_index(drop=True, inplace=True)\n",
    "data_lang.to_json(\"reviews_lang.json\", orient='index')"
   ]
  },
  {
   "cell_type": "code",
   "execution_count": 25,
   "metadata": {},
   "outputs": [],
   "source": [
    "data.to_json(\"data/reviews_all_lang.json\", orient='index')"
   ]
  },
  {
   "cell_type": "code",
   "execution_count": 26,
   "metadata": {},
   "outputs": [
    {
     "data": {
      "text/plain": [
       "[5, 6, 7, 8]"
      ]
     },
     "execution_count": 26,
     "metadata": {},
     "output_type": "execute_result"
    }
   ],
   "source": [
    "li = [1,2,3,4,5,6,7,8]\n",
    "li[-4:]"
   ]
  },
  {
   "cell_type": "code",
   "execution_count": 34,
   "metadata": {},
   "outputs": [
    {
     "data": {
      "text/plain": [
       "category                                                   hotels\n",
       "hotel_review    Ljubazni domaćini. Sve na dohvat ruke. Odlična...\n",
       "Name: 0, dtype: object"
      ]
     },
     "execution_count": 34,
     "metadata": {},
     "output_type": "execute_result"
    }
   ],
   "source": [
    "data[['category','hotel_review']].loc[0]"
   ]
  },
  {
   "cell_type": "code",
   "execution_count": 32,
   "metadata": {},
   "outputs": [
    {
     "data": {
      "text/html": [
       "<div>\n",
       "<style scoped>\n",
       "    .dataframe tbody tr th:only-of-type {\n",
       "        vertical-align: middle;\n",
       "    }\n",
       "\n",
       "    .dataframe tbody tr th {\n",
       "        vertical-align: top;\n",
       "    }\n",
       "\n",
       "    .dataframe thead th {\n",
       "        text-align: right;\n",
       "    }\n",
       "</style>\n",
       "<table border=\"1\" class=\"dataframe\">\n",
       "  <thead>\n",
       "    <tr style=\"text-align: right;\">\n",
       "      <th></th>\n",
       "      <th>category</th>\n",
       "      <th>link</th>\n",
       "      <th>hotel_review</th>\n",
       "      <th>language</th>\n",
       "    </tr>\n",
       "  </thead>\n",
       "  <tbody>\n",
       "    <tr>\n",
       "      <th>0</th>\n",
       "      <td>hotels</td>\n",
       "      <td>https://www.booking.com/hotel/rs/apartman-maki...</td>\n",
       "      <td>Ljubazni domaćini. Sve na dohvat ruke. Odlična...</td>\n",
       "      <td>hr</td>\n",
       "    </tr>\n",
       "    <tr>\n",
       "      <th>1</th>\n",
       "      <td>hotels</td>\n",
       "      <td>https://www.booking.com/hotel/rs/apartman-maki...</td>\n",
       "      <td>Nema ničeg lošeg. Sve je bilo ok. Ponavljam, z...</td>\n",
       "      <td>sl</td>\n",
       "    </tr>\n",
       "    <tr>\n",
       "      <th>2</th>\n",
       "      <td>hotels</td>\n",
       "      <td>https://www.booking.com/hotel/rs/uzivancija-na...</td>\n",
       "      <td>Jednom rečju sve... pogled, ambijent za svaku ...</td>\n",
       "      <td>hr</td>\n",
       "    </tr>\n",
       "    <tr>\n",
       "      <th>3</th>\n",
       "      <td>hotels</td>\n",
       "      <td>https://www.booking.com/hotel/rs/uzivancija-na...</td>\n",
       "      <td>Bez i ljedne zamerke...</td>\n",
       "      <td>hr</td>\n",
       "    </tr>\n",
       "    <tr>\n",
       "      <th>4</th>\n",
       "      <td>hotels</td>\n",
       "      <td>https://www.booking.com/hotel/rs/apartments-no...</td>\n",
       "      <td>Izvrstan smeštaj i prijatan domaćin. Parking z...</td>\n",
       "      <td>hr</td>\n",
       "    </tr>\n",
       "    <tr>\n",
       "      <th>...</th>\n",
       "      <td>...</td>\n",
       "      <td>...</td>\n",
       "      <td>...</td>\n",
       "      <td>...</td>\n",
       "    </tr>\n",
       "    <tr>\n",
       "      <th>111735</th>\n",
       "      <td>hotels</td>\n",
       "      <td>https://www.booking.com/hotel/rs/apartman-gord...</td>\n",
       "      <td>Sve pohvale i preporuke!!</td>\n",
       "      <td>hr</td>\n",
       "    </tr>\n",
       "    <tr>\n",
       "      <th>111736</th>\n",
       "      <td>hotels</td>\n",
       "      <td>https://www.booking.com/hotel/rs/apartman-gord...</td>\n",
       "      <td>Lokacija odlična, sve je bilo super!</td>\n",
       "      <td>hr</td>\n",
       "    </tr>\n",
       "    <tr>\n",
       "      <th>111737</th>\n",
       "      <td>hotels</td>\n",
       "      <td>https://www.booking.com/hotel/rs/apartman-gord...</td>\n",
       "      <td>Apartman je mnogo lepši nego što sam očekivala...</td>\n",
       "      <td>sl</td>\n",
       "    </tr>\n",
       "    <tr>\n",
       "      <th>111738</th>\n",
       "      <td>hotels</td>\n",
       "      <td>https://www.booking.com/hotel/rs/apartman-padr...</td>\n",
       "      <td>Sve,hrana,domaćini...!!!</td>\n",
       "      <td>hr</td>\n",
       "    </tr>\n",
       "    <tr>\n",
       "      <th>111739</th>\n",
       "      <td>hotels</td>\n",
       "      <td>https://www.booking.com/hotel/rs/apartman-padr...</td>\n",
       "      <td>Svaka čast,na svemu!!!</td>\n",
       "      <td>sl</td>\n",
       "    </tr>\n",
       "  </tbody>\n",
       "</table>\n",
       "<p>111740 rows × 4 columns</p>\n",
       "</div>"
      ],
      "text/plain": [
       "       category                                               link  \\\n",
       "0        hotels  https://www.booking.com/hotel/rs/apartman-maki...   \n",
       "1        hotels  https://www.booking.com/hotel/rs/apartman-maki...   \n",
       "2        hotels  https://www.booking.com/hotel/rs/uzivancija-na...   \n",
       "3        hotels  https://www.booking.com/hotel/rs/uzivancija-na...   \n",
       "4        hotels  https://www.booking.com/hotel/rs/apartments-no...   \n",
       "...         ...                                                ...   \n",
       "111735   hotels  https://www.booking.com/hotel/rs/apartman-gord...   \n",
       "111736   hotels  https://www.booking.com/hotel/rs/apartman-gord...   \n",
       "111737   hotels  https://www.booking.com/hotel/rs/apartman-gord...   \n",
       "111738   hotels  https://www.booking.com/hotel/rs/apartman-padr...   \n",
       "111739   hotels  https://www.booking.com/hotel/rs/apartman-padr...   \n",
       "\n",
       "                                             hotel_review language  \n",
       "0       Ljubazni domaćini. Sve na dohvat ruke. Odlična...       hr  \n",
       "1       Nema ničeg lošeg. Sve je bilo ok. Ponavljam, z...       sl  \n",
       "2       Jednom rečju sve... pogled, ambijent za svaku ...       hr  \n",
       "3                                 Bez i ljedne zamerke...       hr  \n",
       "4       Izvrstan smeštaj i prijatan domaćin. Parking z...       hr  \n",
       "...                                                   ...      ...  \n",
       "111735                          Sve pohvale i preporuke!!       hr  \n",
       "111736               Lokacija odlična, sve je bilo super!       hr  \n",
       "111737  Apartman je mnogo lepši nego što sam očekivala...       sl  \n",
       "111738                           Sve,hrana,domaćini...!!!       hr  \n",
       "111739                             Svaka čast,na svemu!!!       sl  \n",
       "\n",
       "[111740 rows x 4 columns]"
      ]
     },
     "execution_count": 32,
     "metadata": {},
     "output_type": "execute_result"
    }
   ],
   "source": [
    "data"
   ]
  },
  {
   "cell_type": "code",
   "execution_count": null,
   "metadata": {},
   "outputs": [],
   "source": []
  }
 ],
 "metadata": {
  "kernelspec": {
   "display_name": "Python 3.10.4 ('opj')",
   "language": "python",
   "name": "python3"
  },
  "language_info": {
   "codemirror_mode": {
    "name": "ipython",
    "version": 3
   },
   "file_extension": ".py",
   "mimetype": "text/x-python",
   "name": "python",
   "nbconvert_exporter": "python",
   "pygments_lexer": "ipython3",
   "version": "3.10.4"
  },
  "orig_nbformat": 4,
  "vscode": {
   "interpreter": {
    "hash": "e34b170828573956425812b9e6b7e6374f6f2417efff6ebd62285e0cdecca193"
   }
  }
 },
 "nbformat": 4,
 "nbformat_minor": 2
}
