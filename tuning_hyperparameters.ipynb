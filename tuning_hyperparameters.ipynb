{
 "cells": [
  {
   "cell_type": "code",
   "execution_count": 1,
   "metadata": {
    "pycharm": {
     "name": "#%%\n"
    }
   },
   "outputs": [],
   "source": [
    "import json\n",
    "from utils import import_annotated_json, ModelType, map_string_to_model_type, read_tuning_hyperparameters\n",
    "from cross_validation import cross_validation, nested_cross_validation\n",
    "from models.bayes_classifier import NaiveBayes, NaiveBayesCombined\n",
    "from models.logistic_regression_classifier import LogisticRegression, LogisticRegressionCombined\n",
    "from models.svm_classifier import SupportVectorMachine, SupportVectorMachineCombined, SupportVectorMachineOneVsRest\n",
    "\n",
    "df = import_annotated_json()\n"
   ]
  },
  {
   "cell_type": "code",
   "execution_count": 2,
   "metadata": {},
   "outputs": [],
   "source": [
    "def tune_bayes(preprocess_params, category, type, results):\n",
    "    if preprocess_params['preprocess_type'] != 'bag_of_words' or preprocess_params['binary'] == True:\n",
    "        return\n",
    "    _, accuracy = nested_cross_validation(df.hotel_review.to_frame(), df[category].to_frame(), NaiveBayes(map_string_to_model_type(type)), preprocess_params)\n",
    "    results[str(preprocess_params)] = accuracy\n",
    "    print(f'{str(preprocess_params)}: Accuracy is {accuracy}')\n",
    "        "
   ]
  },
  {
   "cell_type": "code",
   "execution_count": 3,
   "metadata": {},
   "outputs": [],
   "source": [
    "def tune_logistic_regression(preprocess_params, category, type, results):\n",
    "    hypers = read_tuning_hyperparameters('logistic_regression', type.lower)\n",
    "    for mini_batch_size in hypers['mini_batch_size']:\n",
    "        for num_of_iterations in hypers['num_of_iterations']:\n",
    "            for learning_rate in hypers['learning_rate']:\n",
    "                for regularization_type in hypers['regularization_type']:\n",
    "                    for reg_lambda in hypers['lambda']:\n",
    "                        _, accuracy = nested_cross_validation(df.hotel_review.to_frame(), df[category].to_frame(), LogisticRegression(map_string_to_model_type(type)), preprocess_params)\n",
    "                        hyperparams = {'mini_batch_size':mini_batch_size, 'num_of_iterations':num_of_iterations, 'learning_rate':learning_rate, 'regularization_type':regularization_type, 'lambda':reg_lambda}\n",
    "                        preprocess_params.update(hyperparams)\n",
    "                        params = preprocess_params\n",
    "                        results[str(params)] = accuracy\n",
    "                        print(f'{str(params)}: Accuracy is {accuracy}')"
   ]
  },
  {
   "cell_type": "code",
   "execution_count": 4,
   "metadata": {},
   "outputs": [],
   "source": [
    "def tune_svm(preprocess_params, category, type, results):\n",
    "    hypers = read_tuning_hyperparameters('svm', type.lower)\n",
    "    for mini_batch_size in hypers['mini_batch_size']:\n",
    "        for num_of_iterations in hypers['num_of_iterations']:\n",
    "            for learning_rate in hypers['learning_rate']:\n",
    "                for regularization_type in hypers['regularization_type']:\n",
    "                    for cost_function_type in hypers['cost_function_type']:\n",
    "                        for C in hypers['C']:\n",
    "                            _, accuracy = nested_cross_validation(df.hotel_review.to_frame(), df[category].to_frame(), SupportVectorMachine(map_string_to_model_type(type)), preprocess_params)\n",
    "                            hyperparams = {'mini_batch_size':mini_batch_size, 'num_of_iterations':num_of_iterations, 'learning_rate':learning_rate, 'regularization_type':regularization_type, 'cost_function_type':cost_function_type, 'C': C}\n",
    "                            preprocess_params.update(hyperparams)\n",
    "                            params = preprocess_params\n",
    "                            results[str(params)] = accuracy\n",
    "                            print(f'{str(params)}: Accuracy is {accuracy}')"
   ]
  },
  {
   "cell_type": "code",
   "execution_count": 5,
   "metadata": {},
   "outputs": [],
   "source": [
    "def tune_preprocessing_options(model: str, category: str, type: str):\n",
    "    print(f'CATEGORY: {category}')\n",
    "    print('--------------------------------------------')\n",
    "    print(f'MODEL: {model.upper()} CLASSIFIER')\n",
    "    print('--------------------------------------------')\n",
    "    print(f'MODEL TYPE: {type}')\n",
    "    results = {}\n",
    "    for preprocess_type in [\"bag_of_words\", \"tf_idf\", \"tf\"]:\n",
    "        for binary in [True, False]:\n",
    "            for lowercase in [True, False]:\n",
    "                for ngram in [1, 2, 3]:\n",
    "                    for stop_words in [True, False]:\n",
    "                        preprocess_params = {\n",
    "                            \"preprocess_type\": preprocess_type, \"binary\": binary, \"lowercase\": lowercase, \"ngram\": ngram, \"stop_words\": stop_words, \"freq_max\": 1.0, \"freq_min\": 1\n",
    "                        }\n",
    "                        if model == 'bayes':\n",
    "                            tune_bayes(preprocess_params, category, type, results)\n",
    "                        elif model == 'logistic_regression':\n",
    "                            tune_logistic_regression(preprocess_params, category, type, results)\n",
    "                        elif model == 'svm':\n",
    "                            tune_svm(preprocess_params, category, type, results)\n",
    "                        else:\n",
    "                            raise Exception('Unknown model type!')\n",
    "    for key, value in results.items():\n",
    "        print(f'{key}: {value}')\n",
    "    with open(f'tuning_history_{model.lower()}_{type.lower()}_{category.lower()}.json', \"w\") as outfile:\n",
    "        json.dump(results, outfile)\n"
   ]
  },
  {
   "cell_type": "code",
   "execution_count": 6,
   "metadata": {},
   "outputs": [
    {
     "name": "stdout",
     "output_type": "stream",
     "text": [
      "CATEGORY: amenities\n",
      "--------------------------------------------\n",
      "MODEL: BAYES CLASSIFIER\n",
      "--------------------------------------------\n",
      "MODEL TYPE: CATEGORY\n"
     ]
    },
    {
     "data": {
      "application/vnd.jupyter.widget-view+json": {
       "model_id": "2327db60ed02433d9dc9d91cb4b73a32",
       "version_major": 2,
       "version_minor": 0
      },
      "text/plain": [
       "  0%|          | 0/10 [00:00<?, ?it/s]"
      ]
     },
     "metadata": {},
     "output_type": "display_data"
    },
    {
     "name": "stdout",
     "output_type": "stream",
     "text": [
      "{'preprocess_type': 'bag_of_words', 'binary': False, 'lowercase': True, 'ngram': 1, 'stop_words': True, 'freq_max': 1.0, 'freq_min': 1}: Accuracy is 79.66068898592917\n"
     ]
    },
    {
     "data": {
      "application/vnd.jupyter.widget-view+json": {
       "model_id": "3e3faeac5d484c00bffa864e03f84763",
       "version_major": 2,
       "version_minor": 0
      },
      "text/plain": [
       "  0%|          | 0/10 [00:00<?, ?it/s]"
      ]
     },
     "metadata": {},
     "output_type": "display_data"
    },
    {
     "name": "stdout",
     "output_type": "stream",
     "text": [
      "{'preprocess_type': 'bag_of_words', 'binary': False, 'lowercase': True, 'ngram': 1, 'stop_words': False, 'freq_max': 1.0, 'freq_min': 1}: Accuracy is 79.76244541484716\n"
     ]
    },
    {
     "data": {
      "application/vnd.jupyter.widget-view+json": {
       "model_id": "16f1d41e54c94e81b7be23deb6ca10ba",
       "version_major": 2,
       "version_minor": 0
      },
      "text/plain": [
       "  0%|          | 0/10 [00:00<?, ?it/s]"
      ]
     },
     "metadata": {},
     "output_type": "display_data"
    },
    {
     "name": "stdout",
     "output_type": "stream",
     "text": [
      "{'preprocess_type': 'bag_of_words', 'binary': False, 'lowercase': True, 'ngram': 2, 'stop_words': True, 'freq_max': 1.0, 'freq_min': 1}: Accuracy is 78.89405143134401\n"
     ]
    },
    {
     "data": {
      "application/vnd.jupyter.widget-view+json": {
       "model_id": "9864eae7faa9490296ea822d3e8180e0",
       "version_major": 2,
       "version_minor": 0
      },
      "text/plain": [
       "  0%|          | 0/10 [00:00<?, ?it/s]"
      ]
     },
     "metadata": {},
     "output_type": "display_data"
    },
    {
     "name": "stdout",
     "output_type": "stream",
     "text": [
      "{'preprocess_type': 'bag_of_words', 'binary': False, 'lowercase': True, 'ngram': 2, 'stop_words': False, 'freq_max': 1.0, 'freq_min': 1}: Accuracy is 78.81826297913634\n"
     ]
    },
    {
     "data": {
      "application/vnd.jupyter.widget-view+json": {
       "model_id": "a294107dcc59485b957509a0abc3d862",
       "version_major": 2,
       "version_minor": 0
      },
      "text/plain": [
       "  0%|          | 0/10 [00:00<?, ?it/s]"
      ]
     },
     "metadata": {},
     "output_type": "display_data"
    },
    {
     "name": "stdout",
     "output_type": "stream",
     "text": [
      "{'preprocess_type': 'bag_of_words', 'binary': False, 'lowercase': True, 'ngram': 3, 'stop_words': True, 'freq_max': 1.0, 'freq_min': 1}: Accuracy is 77.93981562348374\n"
     ]
    },
    {
     "data": {
      "application/vnd.jupyter.widget-view+json": {
       "model_id": "b3f3728e87cf47a9811af527b55a23fc",
       "version_major": 2,
       "version_minor": 0
      },
      "text/plain": [
       "  0%|          | 0/10 [00:00<?, ?it/s]"
      ]
     },
     "metadata": {},
     "output_type": "display_data"
    }
   ],
   "source": [
    "for category in ['amenities', 'location', 'cleanliness', 'staff']:\n",
    "    for type in ['CATEGORY', 'SENTIMENT', 'BOTH']:\n",
    "        tune_preprocessing_options('bayes', category, type)"
   ]
  },
  {
   "cell_type": "code",
   "execution_count": null,
   "metadata": {},
   "outputs": [],
   "source": []
  }
 ],
 "metadata": {
  "kernelspec": {
   "display_name": "Python 3.10.4 ('opj')",
   "language": "python",
   "name": "python3"
  },
  "language_info": {
   "codemirror_mode": {
    "name": "ipython",
    "version": 3
   },
   "file_extension": ".py",
   "mimetype": "text/x-python",
   "name": "python",
   "nbconvert_exporter": "python",
   "pygments_lexer": "ipython3",
   "version": "3.10.4"
  },
  "orig_nbformat": 4,
  "vscode": {
   "interpreter": {
    "hash": "1cddf81b9565c807ff5d4d1cab2f4fd60ef65ef3f85b3362d921a694f1cd3421"
   }
  }
 },
 "nbformat": 4,
 "nbformat_minor": 2
}
