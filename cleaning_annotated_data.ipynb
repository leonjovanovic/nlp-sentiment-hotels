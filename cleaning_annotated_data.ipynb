{
 "cells": [
  {
   "cell_type": "code",
   "execution_count": 2,
   "metadata": {
    "pycharm": {
     "name": "#%%\n"
    }
   },
   "outputs": [],
   "source": [
    "from utils import import_annotated_json, ModelType\n",
    "from cross_validation import cross_validation, nested_cross_validation\n",
    "from models.bayes_classifier import NaiveBayes, NaiveBayesCombined\n",
    "from models.logistic_regression_classifier import LogisticRegression, LogisticRegressionCombined\n",
    "from models.svm_classifier import SupportVectorMachine, SupportVectorMachineCombined, SupportVectorMachineOneVsRest\n",
    "\n",
    "df = import_annotated_json()\n",
    "category = 'amenities'"
   ]
  },
  {
   "cell_type": "code",
   "execution_count": 3,
   "metadata": {
    "collapsed": false,
    "pycharm": {
     "name": "#%%\n"
    }
   },
   "outputs": [],
   "source": [
    "# print('Multinomial Naive Bayes:')\n",
    "# J, accuracy = nested_cross_validation(df.hotel_review.to_frame(), df[category].to_frame(), NaiveBayes(ModelType.BOTH))\n",
    "# print(f'Average accuracy is {accuracy}, average cost is {J}')\n",
    "# print('Combined Naive Bayes:')\n",
    "# J, accuracy = nested_cross_validation(df.hotel_review.to_frame(), df[category].to_frame(), NaiveBayesCombined())\n",
    "# print(f'Average accuracy is {accuracy}, average cost is {J}')"
   ]
  },
  {
   "cell_type": "code",
   "execution_count": 4,
   "metadata": {
    "collapsed": false,
    "pycharm": {
     "name": "#%%\n"
    }
   },
   "outputs": [
    {
     "name": "stdout",
     "output_type": "stream",
     "text": [
      "Logistic regression:\n",
      "\tIteration 0: Model accuracy is 0.3958333333333333, cost function is 1.5792480893570455\n",
      "Average accuracy is 0.3958333333333333, average cost is 1.5792480893570455\n",
      "Combined Logistic regression:\n",
      "\tIteration 0: Model accuracy is 61.458333333333336, cost function is 0.3854166666666667\n",
      "Average accuracy is 61.458333333333336, average cost is 0.3854166666666667\n"
     ]
    }
   ],
   "source": [
    "print('Logistic regression:')\n",
    "J, accuracy = cross_validation(df.hotel_review.to_frame(), df[category].to_frame(), LogisticRegression(ModelType.BOTH))\n",
    "print(f'Average accuracy is {accuracy}, average cost is {J}')\n",
    "print('Combined Logistic regression:')\n",
    "J, accuracy = cross_validation(df.hotel_review.to_frame(), df[category].to_frame(), LogisticRegressionCombined())\n",
    "print(f'Average accuracy is {accuracy}, average cost is {J}')"
   ]
  },
  {
   "cell_type": "code",
   "execution_count": 6,
   "metadata": {},
   "outputs": [
    {
     "name": "stdout",
     "output_type": "stream",
     "text": [
      "Support Vector Machine:\n",
      "\tIteration 0: Model accuracy is 78.125, cost function is 0.21875\n",
      "Average accuracy is 78.125, average cost is 0.21875\n",
      "Combined Support Vector Machine:\n",
      "\tIteration 0: Model accuracy is 70.83333333333334, cost function is 0.2916666666666667\n",
      "Average accuracy is 70.83333333333334, average cost is 0.2916666666666667\n"
     ]
    }
   ],
   "source": [
    "print('Support Vector Machine:')\n",
    "J, accuracy = cross_validation(df.hotel_review.to_frame(), df[category].to_frame(), SupportVectorMachineOneVsRest())\n",
    "print(f'Average accuracy is {accuracy}, average cost is {J}')\n",
    "print('Combined Support Vector Machine:')\n",
    "J, accuracy = cross_validation(df.hotel_review.to_frame(), df[category].to_frame(), SupportVectorMachineCombined())\n",
    "print(f'Average accuracy is {accuracy}, average cost is {J}')"
   ]
  },
  {
   "cell_type": "code",
   "execution_count": null,
   "metadata": {},
   "outputs": [],
   "source": []
  }
 ],
 "metadata": {
  "kernelspec": {
   "display_name": "Python 3.10.4 ('opj')",
   "language": "python",
   "name": "python3"
  },
  "language_info": {
   "codemirror_mode": {
    "name": "ipython",
    "version": 3
   },
   "file_extension": ".py",
   "mimetype": "text/x-python",
   "name": "python",
   "nbconvert_exporter": "python",
   "pygments_lexer": "ipython3",
   "version": "3.10.4"
  },
  "orig_nbformat": 4,
  "vscode": {
   "interpreter": {
    "hash": "e34b170828573956425812b9e6b7e6374f6f2417efff6ebd62285e0cdecca193"
   }
  }
 },
 "nbformat": 4,
 "nbformat_minor": 2
}
