{
 "cells": [
  {
   "cell_type": "code",
   "execution_count": 10,
   "metadata": {
    "pycharm": {
     "name": "#%%\n"
    }
   },
   "outputs": [
    {
     "name": "stdout",
     "output_type": "stream",
     "text": [
      "686\n"
     ]
    }
   ],
   "source": [
    "from preprocess import preprocess\n",
    "\n",
    "category = 'cleanliness'\n",
    "df_train, _, df_test, train_input, _, test_input = preprocess(validation_split=False)\n",
    "print(len(df_train) + len(df_test))"
   ]
  },
  {
   "cell_type": "code",
   "execution_count": 11,
   "metadata": {
    "pycharm": {
     "name": "#%%\n"
    }
   },
   "outputs": [],
   "source": [
    "from models.bayes_classificator import NaiveBayes, NaiveBayesCombined, ModelType\n",
    "\n",
    "predictor = NaiveBayesCombined()\n",
    "predictor.train(train_input, df_train.amenities)\n",
    "result_combined = predictor.test(test_input, df_test[category])\n",
    "\n",
    "predictor = NaiveBayes(ModelType.BOTH)\n",
    "predictor.train(train_input, df_train[category])\n",
    "result_both = predictor.test(test_input, df_test[category])"
   ]
  },
  {
   "cell_type": "code",
   "execution_count": 12,
   "metadata": {
    "pycharm": {
     "name": "#%%\n"
    }
   },
   "outputs": [
    {
     "name": "stdout",
     "output_type": "stream",
     "text": [
      "Number of correctly predicted examples by combined Bayes: 72/138\n",
      "Number of correctly predicted examples single Bayes for both: 100/138\n"
     ]
    }
   ],
   "source": [
    "print(f'Number of correctly predicted examples by combined Bayes: {len(result_combined[result_combined.prediction == result_combined[category]])}/{len(result_combined)}')\n",
    "print(f'Number of correctly predicted examples single Bayes for both: {len(result_both[result_both.prediction == result_both[category]])}/{len(result_both)}')"
   ]
  },
  {
   "cell_type": "code",
   "execution_count": 12,
   "metadata": {
    "pycharm": {
     "name": "#%%\n"
    }
   },
   "outputs": [],
   "source": []
  }
 ],
 "metadata": {
  "kernelspec": {
   "display_name": "Python 3.10.4 ('opj')",
   "language": "python",
   "name": "python3"
  },
  "language_info": {
   "codemirror_mode": {
    "name": "ipython",
    "version": 3
   },
   "file_extension": ".py",
   "mimetype": "text/x-python",
   "name": "python",
   "nbconvert_exporter": "python",
   "pygments_lexer": "ipython3",
   "version": "3.10.4"
  },
  "orig_nbformat": 4,
  "vscode": {
   "interpreter": {
    "hash": "e34b170828573956425812b9e6b7e6374f6f2417efff6ebd62285e0cdecca193"
   }
  }
 },
 "nbformat": 4,
 "nbformat_minor": 2
}