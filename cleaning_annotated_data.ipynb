{
 "cells": [
  {
   "cell_type": "code",
   "execution_count": 1,
   "metadata": {
    "pycharm": {
     "name": "#%%\n"
    }
   },
   "outputs": [
    {
     "name": "stdout",
     "output_type": "stream",
     "text": [
      "854\n"
     ]
    }
   ],
   "source": [
    "from preprocess import preprocess\n",
    "\n",
    "category = 'amenities'\n",
    "df_train, _, df_test, train_input, _, test_input = preprocess(validation_split=False)\n",
    "print(len(df_train) + len(df_test))"
   ]
  },
  {
   "cell_type": "code",
   "execution_count": 2,
   "metadata": {
    "pycharm": {
     "name": "#%%\n"
    }
   },
   "outputs": [],
   "source": [
    "from models.bayes_classificator import NaiveBayes, NaiveBayesCombined, ModelType\n",
    "\n",
    "predictor = NaiveBayesCombined()\n",
    "predictor.train(train_input, df_train.amenities)\n",
    "result_combined = predictor.test(test_input, df_test[category])\n",
    "\n",
    "predictor = NaiveBayes(ModelType.BOTH)\n",
    "predictor.train(train_input, df_train[category])\n",
    "result_both = predictor.test(test_input, df_test[category])"
   ]
  },
  {
   "cell_type": "code",
   "execution_count": 3,
   "metadata": {
    "pycharm": {
     "name": "#%%\n"
    }
   },
   "outputs": [],
   "source": [
    "# print(f'Number of correctly predicted examples by combined Bayes: {len(result_combined[result_combined.prediction == result_combined[category]])}/{len(result_combined)}')\n",
    "# print(f'Number of correctly predicted examples single Bayes for both: {len(result_both[result_both.prediction == result_both[category]])}/{len(result_both)}')"
   ]
  },
  {
   "cell_type": "code",
   "execution_count": 1,
   "metadata": {
    "pycharm": {
     "name": "#%%\n"
    }
   },
   "outputs": [
    {
     "name": "stdout",
     "output_type": "stream",
     "text": [
      "0: 0.0\n",
      "1: 0.0\n",
      "2: 0.0\n",
      "3: 0.0\n"
     ]
    },
    {
     "ename": "KeyboardInterrupt",
     "evalue": "",
     "output_type": "error",
     "traceback": [
      "\u001b[1;31m---------------------------------------------------------------------------\u001b[0m",
      "\u001b[1;31mKeyboardInterrupt\u001b[0m                         Traceback (most recent call last)",
      "\u001b[1;32md:\\Users\\Leon Jovanovic\\Documents\\Computer Science\\Machine Learning\\nlp-sentiment-hotels\\cleaning_annotated_data.ipynb Cell 4\u001b[0m in \u001b[0;36m<cell line: 7>\u001b[1;34m()\u001b[0m\n\u001b[0;32m      <a href='vscode-notebook-cell:/d%3A/Users/Leon%20Jovanovic/Documents/Computer%20Science/Machine%20Learning/nlp-sentiment-hotels/cleaning_annotated_data.ipynb#ch0000003?line=4'>5</a>\u001b[0m df \u001b[39m=\u001b[39m import_annotated_json()\n\u001b[0;32m      <a href='vscode-notebook-cell:/d%3A/Users/Leon%20Jovanovic/Documents/Computer%20Science/Machine%20Learning/nlp-sentiment-hotels/cleaning_annotated_data.ipynb#ch0000003?line=5'>6</a>\u001b[0m category \u001b[39m=\u001b[39m \u001b[39m'\u001b[39m\u001b[39mamenities\u001b[39m\u001b[39m'\u001b[39m\n\u001b[1;32m----> <a href='vscode-notebook-cell:/d%3A/Users/Leon%20Jovanovic/Documents/Computer%20Science/Machine%20Learning/nlp-sentiment-hotels/cleaning_annotated_data.ipynb#ch0000003?line=6'>7</a>\u001b[0m J \u001b[39m=\u001b[39m cross_validation(df\u001b[39m.\u001b[39;49mhotel_review\u001b[39m.\u001b[39;49mto_frame(), df[category]\u001b[39m.\u001b[39;49mto_frame(), \u001b[39m0.9\u001b[39;49m, NaiveBayes(ModelType\u001b[39m.\u001b[39;49mSENTIMENT))\n\u001b[0;32m      <a href='vscode-notebook-cell:/d%3A/Users/Leon%20Jovanovic/Documents/Computer%20Science/Machine%20Learning/nlp-sentiment-hotels/cleaning_annotated_data.ipynb#ch0000003?line=7'>8</a>\u001b[0m \u001b[39mprint\u001b[39m(J)\n",
      "File \u001b[1;32md:\\Users\\Leon Jovanovic\\Documents\\Computer Science\\Machine Learning\\nlp-sentiment-hotels\\cross_validation.py:13\u001b[0m, in \u001b[0;36mcross_validation\u001b[1;34m(input_data, output_data, ratio, model)\u001b[0m\n\u001b[0;32m     11\u001b[0m train_input \u001b[39m=\u001b[39m bag_of_words(train_input\u001b[39m.\u001b[39mhotel_review)\n\u001b[0;32m     12\u001b[0m test_or_val_input \u001b[39m=\u001b[39m test_or_val_input\u001b[39m.\u001b[39mapply(\u001b[39mlambda\u001b[39;00m x: tokenize([x\u001b[39m.\u001b[39mhotel_review]), axis\u001b[39m=\u001b[39m\u001b[39m1\u001b[39m)\n\u001b[1;32m---> 13\u001b[0m model\u001b[39m.\u001b[39;49mtrain(train_input, train_output)\n\u001b[0;32m     14\u001b[0m J_values\u001b[39m.\u001b[39mappend(model\u001b[39m.\u001b[39mtest(test_or_val_input, test_or_val_output))\n\u001b[0;32m     15\u001b[0m \u001b[39mprint\u001b[39m(\u001b[39mf\u001b[39m\u001b[39m'\u001b[39m\u001b[39m{\u001b[39;00mi\u001b[39m}\u001b[39;00m\u001b[39m: \u001b[39m\u001b[39m{\u001b[39;00mJ_values[i]\u001b[39m}\u001b[39;00m\u001b[39m'\u001b[39m)\n",
      "File \u001b[1;32md:\\Users\\Leon Jovanovic\\Documents\\Computer Science\\Machine Learning\\nlp-sentiment-hotels\\models\\bayes_classificator.py:36\u001b[0m, in \u001b[0;36mNaiveBayes.train\u001b[1;34m(self, input_data, output_data)\u001b[0m\n\u001b[0;32m     34\u001b[0m \u001b[39mdef\u001b[39;00m \u001b[39mtrain\u001b[39m(\u001b[39mself\u001b[39m, input_data, output_data):\n\u001b[0;32m     35\u001b[0m     df_train \u001b[39m=\u001b[39m prepare_dataset(input_data, output_data, \u001b[39mself\u001b[39m\u001b[39m.\u001b[39mtype)\n\u001b[1;32m---> 36\u001b[0m     \u001b[39mself\u001b[39;49m\u001b[39m.\u001b[39;49mcalc_probabilities_per_class(df_train)\n",
      "File \u001b[1;32md:\\Users\\Leon Jovanovic\\Documents\\Computer Science\\Machine Learning\\nlp-sentiment-hotels\\models\\bayes_classificator.py:31\u001b[0m, in \u001b[0;36mNaiveBayes.calc_probabilities_per_class\u001b[1;34m(self, df)\u001b[0m\n\u001b[0;32m     29\u001b[0m     classes\u001b[39m.\u001b[39mappend(tmp_class)\n\u001b[0;32m     30\u001b[0m     \u001b[39mself\u001b[39m\u001b[39m.\u001b[39mclasses_probabilities\u001b[39m.\u001b[39mappend(\u001b[39mlen\u001b[39m(tmp_class)\u001b[39m/\u001b[39m\u001b[39mlen\u001b[39m(df))\n\u001b[1;32m---> 31\u001b[0m \u001b[39mself\u001b[39;49m\u001b[39m.\u001b[39;49mcalc_probabilities_per_word(classes)\n",
      "File \u001b[1;32md:\\Users\\Leon Jovanovic\\Documents\\Computer Science\\Machine Learning\\nlp-sentiment-hotels\\models\\bayes_classificator.py:18\u001b[0m, in \u001b[0;36mNaiveBayes.calc_probabilities_per_word\u001b[1;34m(self, classes)\u001b[0m\n\u001b[0;32m     16\u001b[0m \u001b[39mdef\u001b[39;00m \u001b[39mcalc_probabilities_per_word\u001b[39m(\u001b[39mself\u001b[39m, classes: \u001b[39mlist\u001b[39m) \u001b[39m-\u001b[39m\u001b[39m>\u001b[39m \u001b[39mlist\u001b[39m:\n\u001b[0;32m     17\u001b[0m     \u001b[39mfor\u001b[39;00m df \u001b[39min\u001b[39;00m classes:\n\u001b[1;32m---> 18\u001b[0m         df \u001b[39m=\u001b[39m pd\u001b[39m.\u001b[39mDataFrame(df\u001b[39m.\u001b[39;49mapply(\u001b[39mlambda\u001b[39;49;00m x: \u001b[39msum\u001b[39;49m(x)))[:\u001b[39m-\u001b[39m\u001b[39m1\u001b[39m]\u001b[39m.\u001b[39mtranspose()\n\u001b[0;32m     19\u001b[0m         n \u001b[39m=\u001b[39m \u001b[39mlen\u001b[39m(df\u001b[39m.\u001b[39mcolumns)\n\u001b[0;32m     20\u001b[0m         n_sum \u001b[39m=\u001b[39m df\u001b[39m.\u001b[39msum(axis\u001b[39m=\u001b[39m\u001b[39m1\u001b[39m)\n",
      "File \u001b[1;32md:\\Users\\Leon Jovanovic\\anaconda3\\envs\\opj\\lib\\site-packages\\pandas\\core\\frame.py:8839\u001b[0m, in \u001b[0;36mDataFrame.apply\u001b[1;34m(self, func, axis, raw, result_type, args, **kwargs)\u001b[0m\n\u001b[0;32m   8828\u001b[0m \u001b[39mfrom\u001b[39;00m \u001b[39mpandas\u001b[39;00m\u001b[39m.\u001b[39;00m\u001b[39mcore\u001b[39;00m\u001b[39m.\u001b[39;00m\u001b[39mapply\u001b[39;00m \u001b[39mimport\u001b[39;00m frame_apply\n\u001b[0;32m   8830\u001b[0m op \u001b[39m=\u001b[39m frame_apply(\n\u001b[0;32m   8831\u001b[0m     \u001b[39mself\u001b[39m,\n\u001b[0;32m   8832\u001b[0m     func\u001b[39m=\u001b[39mfunc,\n\u001b[1;32m   (...)\u001b[0m\n\u001b[0;32m   8837\u001b[0m     kwargs\u001b[39m=\u001b[39mkwargs,\n\u001b[0;32m   8838\u001b[0m )\n\u001b[1;32m-> 8839\u001b[0m \u001b[39mreturn\u001b[39;00m op\u001b[39m.\u001b[39;49mapply()\u001b[39m.\u001b[39m__finalize__(\u001b[39mself\u001b[39m, method\u001b[39m=\u001b[39m\u001b[39m\"\u001b[39m\u001b[39mapply\u001b[39m\u001b[39m\"\u001b[39m)\n",
      "File \u001b[1;32md:\\Users\\Leon Jovanovic\\anaconda3\\envs\\opj\\lib\\site-packages\\pandas\\core\\apply.py:727\u001b[0m, in \u001b[0;36mFrameApply.apply\u001b[1;34m(self)\u001b[0m\n\u001b[0;32m    724\u001b[0m \u001b[39melif\u001b[39;00m \u001b[39mself\u001b[39m\u001b[39m.\u001b[39mraw:\n\u001b[0;32m    725\u001b[0m     \u001b[39mreturn\u001b[39;00m \u001b[39mself\u001b[39m\u001b[39m.\u001b[39mapply_raw()\n\u001b[1;32m--> 727\u001b[0m \u001b[39mreturn\u001b[39;00m \u001b[39mself\u001b[39;49m\u001b[39m.\u001b[39;49mapply_standard()\n",
      "File \u001b[1;32md:\\Users\\Leon Jovanovic\\anaconda3\\envs\\opj\\lib\\site-packages\\pandas\\core\\apply.py:851\u001b[0m, in \u001b[0;36mFrameApply.apply_standard\u001b[1;34m(self)\u001b[0m\n\u001b[0;32m    850\u001b[0m \u001b[39mdef\u001b[39;00m \u001b[39mapply_standard\u001b[39m(\u001b[39mself\u001b[39m):\n\u001b[1;32m--> 851\u001b[0m     results, res_index \u001b[39m=\u001b[39m \u001b[39mself\u001b[39;49m\u001b[39m.\u001b[39;49mapply_series_generator()\n\u001b[0;32m    853\u001b[0m     \u001b[39m# wrap results\u001b[39;00m\n\u001b[0;32m    854\u001b[0m     \u001b[39mreturn\u001b[39;00m \u001b[39mself\u001b[39m\u001b[39m.\u001b[39mwrap_results(results, res_index)\n",
      "File \u001b[1;32md:\\Users\\Leon Jovanovic\\anaconda3\\envs\\opj\\lib\\site-packages\\pandas\\core\\apply.py:867\u001b[0m, in \u001b[0;36mFrameApply.apply_series_generator\u001b[1;34m(self)\u001b[0m\n\u001b[0;32m    864\u001b[0m \u001b[39mwith\u001b[39;00m option_context(\u001b[39m\"\u001b[39m\u001b[39mmode.chained_assignment\u001b[39m\u001b[39m\"\u001b[39m, \u001b[39mNone\u001b[39;00m):\n\u001b[0;32m    865\u001b[0m     \u001b[39mfor\u001b[39;00m i, v \u001b[39min\u001b[39;00m \u001b[39menumerate\u001b[39m(series_gen):\n\u001b[0;32m    866\u001b[0m         \u001b[39m# ignore SettingWithCopy here in case the user mutates\u001b[39;00m\n\u001b[1;32m--> 867\u001b[0m         results[i] \u001b[39m=\u001b[39m \u001b[39mself\u001b[39;49m\u001b[39m.\u001b[39;49mf(v)\n\u001b[0;32m    868\u001b[0m         \u001b[39mif\u001b[39;00m \u001b[39misinstance\u001b[39m(results[i], ABCSeries):\n\u001b[0;32m    869\u001b[0m             \u001b[39m# If we have a view on v, we need to make a copy because\u001b[39;00m\n\u001b[0;32m    870\u001b[0m             \u001b[39m#  series_generator will swap out the underlying data\u001b[39;00m\n\u001b[0;32m    871\u001b[0m             results[i] \u001b[39m=\u001b[39m results[i]\u001b[39m.\u001b[39mcopy(deep\u001b[39m=\u001b[39m\u001b[39mFalse\u001b[39;00m)\n",
      "\u001b[1;31mKeyboardInterrupt\u001b[0m: "
     ]
    }
   ],
   "source": [
    "from utils import import_annotated_json\n",
    "from cross_validation import cross_validation\n",
    "from models.bayes_classificator import NaiveBayes, NaiveBayesCombined, ModelType\n",
    "\n",
    "df = import_annotated_json()\n",
    "category = 'amenities'\n",
    "J = cross_validation(df.hotel_review.to_frame(), df[category].to_frame(), 0.9, NaiveBayes(ModelType.CATEGORY))\n",
    "print(J)\n"
   ]
  },
  {
   "cell_type": "code",
   "execution_count": null,
   "metadata": {},
   "outputs": [],
   "source": []
  }
 ],
 "metadata": {
  "kernelspec": {
   "display_name": "Python 3.10.4 ('opj')",
   "language": "python",
   "name": "python3"
  },
  "language_info": {
   "codemirror_mode": {
    "name": "ipython",
    "version": 3
   },
   "file_extension": ".py",
   "mimetype": "text/x-python",
   "name": "python",
   "nbconvert_exporter": "python",
   "pygments_lexer": "ipython3",
   "version": "3.10.4"
  },
  "orig_nbformat": 4,
  "vscode": {
   "interpreter": {
    "hash": "e34b170828573956425812b9e6b7e6374f6f2417efff6ebd62285e0cdecca193"
   }
  }
 },
 "nbformat": 4,
 "nbformat_minor": 2
}
