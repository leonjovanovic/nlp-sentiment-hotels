{
 "cells": [
  {
   "cell_type": "code",
   "execution_count": null,
   "metadata": {
    "pycharm": {
     "name": "#%%\n"
    }
   },
   "outputs": [],
   "source": [
    "from utils import import_annotated_json\n",
    "from cross_validation import cross_validation, nested_cross_validation\n",
    "from models.bayes_classificator import NaiveBayes, NaiveBayesCombined, ModelType\n",
    "from models.logistic_regression_classificator import LogisticRegression\n",
    "\n",
    "df = import_annotated_json()\n",
    "category = 'amenities'"
   ]
  },
  {
   "cell_type": "code",
   "execution_count": null,
   "metadata": {
    "collapsed": false,
    "pycharm": {
     "name": "#%%\n"
    }
   },
   "outputs": [],
   "source": [
    "# print('Multinomial Naive Bayes:')\n",
    "# J, accuracy = nested_cross_validation(df.hotel_review.to_frame(), df[category].to_frame(), NaiveBayes(ModelType.BOTH))\n",
    "# print(f'Average accuracy is {accuracy}, average cost is {J}')\n",
    "# print('Combined Naive Bayes:')\n",
    "# J, accuracy = nested_cross_validation(df.hotel_review.to_frame(), df[category].to_frame(), NaiveBayesCombined())\n",
    "# print(f'Average accuracy is {accuracy}, average cost is {J}')"
   ]
  },
  {
   "cell_type": "code",
   "execution_count": null,
   "metadata": {
    "collapsed": false,
    "pycharm": {
     "name": "#%%\n"
    }
   },
   "outputs": [],
   "source": [
    "print('Logistic regression:')\n",
    "J, accuracy = cross_validation(df.hotel_review.to_frame(), df[category].to_frame(), LogisticRegression(ModelType.CATEGORY))\n",
    "print(f'Average accuracy is {accuracy}, average cost is {J}')"
   ]
  },
  {
   "cell_type": "code",
   "execution_count": null,
   "metadata": {},
   "outputs": [],
   "source": []
  }
 ],
 "metadata": {
  "kernelspec": {
   "display_name": "Python 3.10.4 ('opj')",
   "language": "python",
   "name": "python3"
  },
  "language_info": {
   "codemirror_mode": {
    "name": "ipython",
    "version": 3
   },
   "file_extension": ".py",
   "mimetype": "text/x-python",
   "name": "python",
   "nbconvert_exporter": "python",
   "pygments_lexer": "ipython3",
   "version": "3.10.4"
  },
  "orig_nbformat": 4,
  "vscode": {
   "interpreter": {
    "hash": "1cddf81b9565c807ff5d4d1cab2f4fd60ef65ef3f85b3362d921a694f1cd3421"
   }
  }
 },
 "nbformat": 4,
 "nbformat_minor": 2
}
