{
 "cells": [
  {
   "cell_type": "code",
   "execution_count": 1,
   "metadata": {},
   "outputs": [
    {
     "name": "stderr",
     "output_type": "stream",
     "text": [
      "d:\\Users\\Leon Jovanovic\\anaconda3\\envs\\opj\\lib\\site-packages\\tqdm\\auto.py:22: TqdmWarning: IProgress not found. Please update jupyter and ipywidgets. See https://ipywidgets.readthedocs.io/en/stable/user_install.html\n",
      "  from .autonotebook import tqdm as notebook_tqdm\n"
     ]
    }
   ],
   "source": [
    "from preprocess import preprocess\n",
    "\n",
    "df_train, _, df_test, train_input, _, test_input = preprocess(validation_split=False)"
   ]
  },
  {
   "cell_type": "code",
   "execution_count": 2,
   "metadata": {},
   "outputs": [],
   "source": [
    "from models.bayes_classificator import NaiveBayes, NaiveBayesCombined, ModelType\n",
    "\n",
    "predictor = NaiveBayesCombined()\n",
    "predictor.train(train_input, df_train.amenities)\n",
    "result_combined = predictor.test(test_input, df_test.amenities)\n",
    "\n",
    "predictor = NaiveBayes(ModelType.BOTH)\n",
    "predictor.train(train_input, df_train.amenities)\n",
    "result_both = predictor.test(test_input, df_test.amenities)"
   ]
  },
  {
   "cell_type": "code",
   "execution_count": 3,
   "metadata": {},
   "outputs": [
    {
     "name": "stdout",
     "output_type": "stream",
     "text": [
      "Number of correctly predicted examples by combined Bayes: 69/103\n",
      "Number of correctly predicted examples single Bayes for both: 68/103\n"
     ]
    }
   ],
   "source": [
    "print(f'Number of correctly predicted examples by combined Bayes: {len(result_combined[result_combined.prediction == result_combined.amenities])}/{len(result_combined)}')\n",
    "print(f'Number of correctly predicted examples single Bayes for both: {len(result_both[result_both.prediction == result_both.amenities])}/{len(result_both)}')"
   ]
  },
  {
   "cell_type": "code",
   "execution_count": null,
   "metadata": {},
   "outputs": [],
   "source": []
  }
 ],
 "metadata": {
  "kernelspec": {
   "display_name": "Python 3.10.4 ('opj')",
   "language": "python",
   "name": "python3"
  },
  "language_info": {
   "codemirror_mode": {
    "name": "ipython",
    "version": 3
   },
   "file_extension": ".py",
   "mimetype": "text/x-python",
   "name": "python",
   "nbconvert_exporter": "python",
   "pygments_lexer": "ipython3",
   "version": "3.10.4"
  },
  "orig_nbformat": 4,
  "vscode": {
   "interpreter": {
    "hash": "e34b170828573956425812b9e6b7e6374f6f2417efff6ebd62285e0cdecca193"
   }
  }
 },
 "nbformat": 4,
 "nbformat_minor": 2
}
