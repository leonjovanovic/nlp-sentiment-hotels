{
 "cells": [
  {
   "cell_type": "code",
   "execution_count": null,
   "metadata": {
    "pycharm": {
     "name": "#%%\n"
    }
   },
   "outputs": [],
   "source": [
    "from utils import import_annotated_json\n",
    "from cross_validation import cross_validation, nested_cross_validation\n",
    "from models.bayes_classifier import NaiveBayes, NaiveBayesCombined, ModelType\n",
    "from models.logistic_regression_classifier import LogisticRegression, LogisticRegressionCombined\n",
    "from models.svm_classifier import SupportVectorMachine, SupportVectorMachineCombined\n",
    "\n",
    "df = import_annotated_json()\n",
    "category = 'amenities'"
   ]
  },
  {
   "cell_type": "code",
   "execution_count": null,
   "metadata": {
    "collapsed": false,
    "pycharm": {
     "name": "#%%\n"
    }
   },
   "outputs": [],
   "source": [
    "# print('Multinomial Naive Bayes:')\n",
    "# J, accuracy = nested_cross_validation(df.hotel_review.to_frame(), df[category].to_frame(), NaiveBayes(ModelType.BOTH))\n",
    "# print(f'Average accuracy is {accuracy}, average cost is {J}')\n",
    "# print('Combined Naive Bayes:')\n",
    "# J, accuracy = nested_cross_validation(df.hotel_review.to_frame(), df[category].to_frame(), NaiveBayesCombined())\n",
    "# print(f'Average accuracy is {accuracy}, average cost is {J}')"
   ]
  },
  {
   "cell_type": "code",
   "execution_count": null,
   "metadata": {
    "collapsed": false,
    "pycharm": {
     "name": "#%%\n"
    }
   },
   "outputs": [],
   "source": [
    "# print('Logistic regression:')\n",
    "# J, accuracy = cross_validation(df.hotel_review.to_frame(), df[category].to_frame(), LogisticRegressionCombined())\n",
    "# print(f'Average accuracy is {accuracy}, average cost is {J}')"
   ]
  },
  {
   "cell_type": "code",
   "execution_count": null,
   "metadata": {},
   "outputs": [],
   "source": [
    "print('Support Vector Machine:')\n",
    "J, accuracy = cross_validation(df.hotel_review.to_frame(), df[category].to_frame(), SupportVectorMachineCombined())\n",
    "print(f'Average accuracy is {accuracy}, average cost is {J}')"
   ]
  },
  {
   "cell_type": "code",
   "execution_count": null,
   "metadata": {},
   "outputs": [],
   "source": []
  }
 ],
 "metadata": {
  "kernelspec": {
   "display_name": "Python 3.10.4 ('opj')",
   "language": "python",
   "name": "python3"
  },
  "language_info": {
   "codemirror_mode": {
    "name": "ipython",
    "version": 3
   },
   "file_extension": ".py",
   "mimetype": "text/x-python",
   "name": "python",
   "nbconvert_exporter": "python",
   "pygments_lexer": "ipython3",
   "version": "3.10.4"
  },
  "orig_nbformat": 4,
  "vscode": {
   "interpreter": {
    "hash": "e34b170828573956425812b9e6b7e6374f6f2417efff6ebd62285e0cdecca193"
   }
  }
 },
 "nbformat": 4,
 "nbformat_minor": 2
}
