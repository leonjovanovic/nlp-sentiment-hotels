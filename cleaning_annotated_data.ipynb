{
 "cells": [
  {
   "cell_type": "code",
   "execution_count": 1,
   "metadata": {
    "pycharm": {
     "name": "#%%\n"
    }
   },
   "outputs": [
    {
     "name": "stdout",
     "output_type": "stream",
     "text": [
      "854\n"
     ]
    }
   ],
   "source": [
    "from preprocess import preprocess\n",
    "\n",
    "category = 'amenities'\n",
    "df_train, _, df_test, train_input, _, test_input = preprocess(validation_split=False)\n",
    "print(len(df_train) + len(df_test))"
   ]
  },
  {
   "cell_type": "code",
   "execution_count": 2,
   "metadata": {
    "pycharm": {
     "name": "#%%\n"
    }
   },
   "outputs": [],
   "source": [
    "from models.bayes_classificator import NaiveBayes, NaiveBayesCombined, ModelType\n",
    "\n",
    "predictor = NaiveBayesCombined()\n",
    "predictor.train(train_input, df_train.amenities)\n",
    "result_combined = predictor.test(test_input, df_test[category])\n",
    "\n",
    "predictor = NaiveBayes(ModelType.BOTH)\n",
    "predictor.train(train_input, df_train[category])\n",
    "result_both = predictor.test(test_input, df_test[category])"
   ]
  },
  {
   "cell_type": "code",
   "execution_count": 3,
   "metadata": {
    "pycharm": {
     "name": "#%%\n"
    }
   },
   "outputs": [],
   "source": [
    "# print(f'Number of correctly predicted examples by combined Bayes: {len(result_combined[result_combined.prediction == result_combined[category]])}/{len(result_combined)}')\n",
    "# print(f'Number of correctly predicted examples single Bayes for both: {len(result_both[result_both.prediction == result_both[category]])}/{len(result_both)}')"
   ]
  },
  {
   "cell_type": "code",
   "execution_count": 1,
   "metadata": {
    "pycharm": {
     "name": "#%%\n"
    }
   },
   "outputs": [],
   "source": [
    "from utils import import_annotated_json\n",
    "from cross_validation import cross_validation, nested_cross_validation\n",
    "from models.bayes_classificator import NaiveBayes, NaiveBayesCombined, ModelType\n",
    "from models.logistic_regression_classificator import LogisticRegression\n",
    "\n",
    "df = import_annotated_json()\n",
    "category = 'amenities'"
   ]
  },
  {
   "cell_type": "code",
   "execution_count": null,
   "outputs": [],
   "source": [
    "print('Multinomial Naive Bayes:')\n",
    "J, accuracy = nested_cross_validation(df.hotel_review.to_frame(), df[category].to_frame(), NaiveBayes(ModelType.BOTH))\n",
    "print(f'Average accuracy is {accuracy}, average cost is {J}')\n",
    "print('Combined Naive Bayes:')\n",
    "J, accuracy = nested_cross_validation(df.hotel_review.to_frame(), df[category].to_frame(), NaiveBayesCombined())\n",
    "print(f'Average accuracy is {accuracy}, average cost is {J}')"
   ],
   "metadata": {
    "collapsed": false,
    "pycharm": {
     "name": "#%%\n"
    }
   }
  },
  {
   "cell_type": "code",
   "execution_count": 2,
   "outputs": [
    {
     "name": "stdout",
     "output_type": "stream",
     "text": [
      "Logistic regression:\n"
     ]
    },
    {
     "name": "stderr",
     "output_type": "stream",
     "text": [
      "D:\\Projects\\nlp-sentiment-hotels\\models\\logistic_regression_classificator.py:37: RuntimeWarning: invalid value encountered in log\n",
      "  L = -np.log(H) # num_of_classes x mini_batch_size\n"
     ]
    },
    {
     "name": "stdout",
     "output_type": "stream",
     "text": [
      "\tIteration 0: Model accuracy is 0.0, cost function is nan\n"
     ]
    },
    {
     "name": "stderr",
     "output_type": "stream",
     "text": [
      "D:\\Projects\\nlp-sentiment-hotels\\models\\logistic_regression_classificator.py:37: RuntimeWarning: invalid value encountered in log\n",
      "  L = -np.log(H) # num_of_classes x mini_batch_size\n"
     ]
    },
    {
     "name": "stdout",
     "output_type": "stream",
     "text": [
      "\tIteration 1: Model accuracy is 0.0, cost function is nan\n"
     ]
    },
    {
     "name": "stderr",
     "output_type": "stream",
     "text": [
      "D:\\Projects\\nlp-sentiment-hotels\\models\\logistic_regression_classificator.py:37: RuntimeWarning: invalid value encountered in log\n",
      "  L = -np.log(H) # num_of_classes x mini_batch_size\n"
     ]
    },
    {
     "name": "stdout",
     "output_type": "stream",
     "text": [
      "\tIteration 2: Model accuracy is 0.0, cost function is nan\n"
     ]
    },
    {
     "name": "stderr",
     "output_type": "stream",
     "text": [
      "D:\\Projects\\nlp-sentiment-hotels\\models\\logistic_regression_classificator.py:37: RuntimeWarning: invalid value encountered in log\n",
      "  L = -np.log(H) # num_of_classes x mini_batch_size\n"
     ]
    },
    {
     "name": "stdout",
     "output_type": "stream",
     "text": [
      "\tIteration 3: Model accuracy is 0.0, cost function is nan\n"
     ]
    },
    {
     "name": "stderr",
     "output_type": "stream",
     "text": [
      "D:\\Projects\\nlp-sentiment-hotels\\models\\logistic_regression_classificator.py:37: RuntimeWarning: invalid value encountered in log\n",
      "  L = -np.log(H) # num_of_classes x mini_batch_size\n"
     ]
    },
    {
     "ename": "KeyboardInterrupt",
     "evalue": "",
     "output_type": "error",
     "traceback": [
      "\u001B[1;31m---------------------------------------------------------------------------\u001B[0m",
      "\u001B[1;31mKeyboardInterrupt\u001B[0m                         Traceback (most recent call last)",
      "Input \u001B[1;32mIn [2]\u001B[0m, in \u001B[0;36m<cell line: 2>\u001B[1;34m()\u001B[0m\n\u001B[0;32m      1\u001B[0m \u001B[38;5;28mprint\u001B[39m(\u001B[38;5;124m'\u001B[39m\u001B[38;5;124mLogistic regression:\u001B[39m\u001B[38;5;124m'\u001B[39m)\n\u001B[1;32m----> 2\u001B[0m J, accuracy \u001B[38;5;241m=\u001B[39m \u001B[43mcross_validation\u001B[49m\u001B[43m(\u001B[49m\u001B[43mdf\u001B[49m\u001B[38;5;241;43m.\u001B[39;49m\u001B[43mhotel_review\u001B[49m\u001B[38;5;241;43m.\u001B[39;49m\u001B[43mto_frame\u001B[49m\u001B[43m(\u001B[49m\u001B[43m)\u001B[49m\u001B[43m,\u001B[49m\u001B[43m \u001B[49m\u001B[43mdf\u001B[49m\u001B[43m[\u001B[49m\u001B[43mcategory\u001B[49m\u001B[43m]\u001B[49m\u001B[38;5;241;43m.\u001B[39;49m\u001B[43mto_frame\u001B[49m\u001B[43m(\u001B[49m\u001B[43m)\u001B[49m\u001B[43m,\u001B[49m\u001B[43m \u001B[49m\u001B[43mLogisticRegression\u001B[49m\u001B[43m(\u001B[49m\u001B[43mModelType\u001B[49m\u001B[38;5;241;43m.\u001B[39;49m\u001B[43mBOTH\u001B[49m\u001B[43m)\u001B[49m\u001B[43m)\u001B[49m\n\u001B[0;32m      3\u001B[0m \u001B[38;5;28mprint\u001B[39m(\u001B[38;5;124mf\u001B[39m\u001B[38;5;124m'\u001B[39m\u001B[38;5;124mAverage accuracy is \u001B[39m\u001B[38;5;132;01m{\u001B[39;00maccuracy\u001B[38;5;132;01m}\u001B[39;00m\u001B[38;5;124m, average cost is \u001B[39m\u001B[38;5;132;01m{\u001B[39;00mJ\u001B[38;5;132;01m}\u001B[39;00m\u001B[38;5;124m'\u001B[39m)\n",
      "File \u001B[1;32mD:\\Projects\\nlp-sentiment-hotels\\cross_validation.py:14\u001B[0m, in \u001B[0;36mcross_validation\u001B[1;34m(input_data, output_data, model)\u001B[0m\n\u001B[0;32m     12\u001B[0m train_output, test_or_val_output \u001B[38;5;241m=\u001B[39m split_dataset_into_two(output_data, i, k_fold)\n\u001B[0;32m     13\u001B[0m train_input \u001B[38;5;241m=\u001B[39m bag_of_words(train_input\u001B[38;5;241m.\u001B[39mhotel_review)\n\u001B[1;32m---> 14\u001B[0m \u001B[43mmodel\u001B[49m\u001B[38;5;241;43m.\u001B[39;49m\u001B[43mtrain\u001B[49m\u001B[43m(\u001B[49m\u001B[43mtrain_input\u001B[49m\u001B[43m,\u001B[49m\u001B[43m \u001B[49m\u001B[43mtrain_output\u001B[49m\u001B[43m)\u001B[49m\n\u001B[0;32m     15\u001B[0m J, accuracy \u001B[38;5;241m=\u001B[39m model\u001B[38;5;241m.\u001B[39mtest(test_or_val_input, test_or_val_output)\n\u001B[0;32m     16\u001B[0m J_values\u001B[38;5;241m.\u001B[39mappend(J)\n",
      "File \u001B[1;32mD:\\Projects\\nlp-sentiment-hotels\\models\\logistic_regression_classificator.py:79\u001B[0m, in \u001B[0;36mLogisticRegression.train\u001B[1;34m(self, train_input_data, train_output_data, validation_input_data, validation_output_data)\u001B[0m\n\u001B[0;32m     77\u001B[0m \u001B[38;5;28;01mfor\u001B[39;00m iteration \u001B[38;5;129;01min\u001B[39;00m \u001B[38;5;28mrange\u001B[39m(num_of_iterations):        \n\u001B[0;32m     78\u001B[0m     \u001B[38;5;28;01mfor\u001B[39;00m mini_batch_index \u001B[38;5;129;01min\u001B[39;00m \u001B[38;5;28mrange\u001B[39m(\u001B[38;5;241m0\u001B[39m, train_dataset\u001B[38;5;241m.\u001B[39mshape[\u001B[38;5;241m0\u001B[39m], mini_batch_size):\n\u001B[1;32m---> 79\u001B[0m         J_train \u001B[38;5;241m=\u001B[39m \u001B[38;5;28;43mself\u001B[39;49m\u001B[38;5;241;43m.\u001B[39;49m\u001B[43mtrain_mini_batch\u001B[49m\u001B[43m(\u001B[49m\u001B[43mtrain_dataset\u001B[49m\u001B[43m,\u001B[49m\u001B[43m \u001B[49m\u001B[43mmini_batch_index\u001B[49m\u001B[43m)\u001B[49m\n\u001B[0;32m     80\u001B[0m         \u001B[38;5;28;01mif\u001B[39;00m validation_dataset:\n\u001B[0;32m     81\u001B[0m             _, _, H_validation, J_validation \u001B[38;5;241m=\u001B[39m \u001B[38;5;28mself\u001B[39m\u001B[38;5;241m.\u001B[39mcompute(validation_dataset)\n",
      "File \u001B[1;32mD:\\Projects\\nlp-sentiment-hotels\\models\\logistic_regression_classificator.py:62\u001B[0m, in \u001B[0;36mLogisticRegression.train_mini_batch\u001B[1;34m(self, data, mini_batch_index)\u001B[0m\n\u001B[0;32m     60\u001B[0m mini_batch_data \u001B[38;5;241m=\u001B[39m data[mini_batch_index:mini_batch_index \u001B[38;5;241m+\u001B[39m mini_batch_size] \u001B[38;5;66;03m# mini_batch_size x num_of_features + 1 (output)\u001B[39;00m\n\u001B[0;32m     61\u001B[0m X, Y, H, J \u001B[38;5;241m=\u001B[39m \u001B[38;5;28mself\u001B[39m\u001B[38;5;241m.\u001B[39mcompute(mini_batch_data)\n\u001B[1;32m---> 62\u001B[0m \u001B[38;5;28;43mself\u001B[39;49m\u001B[38;5;241;43m.\u001B[39;49m\u001B[43mupdate_parameters\u001B[49m\u001B[43m(\u001B[49m\u001B[43mX\u001B[49m\u001B[43m,\u001B[49m\u001B[43m \u001B[49m\u001B[43mY\u001B[49m\u001B[43m,\u001B[49m\u001B[43m \u001B[49m\u001B[43mH\u001B[49m\u001B[43m)\u001B[49m\n\u001B[0;32m     63\u001B[0m \u001B[38;5;28;01mreturn\u001B[39;00m J\n",
      "File \u001B[1;32mD:\\Projects\\nlp-sentiment-hotels\\models\\logistic_regression_classificator.py:56\u001B[0m, in \u001B[0;36mLogisticRegression.update_parameters\u001B[1;34m(self, X, Y, H)\u001B[0m\n\u001B[0;32m     54\u001B[0m \u001B[38;5;28;01melse\u001B[39;00m:\n\u001B[0;32m     55\u001B[0m     one_hot_Y \u001B[38;5;241m=\u001B[39m np\u001B[38;5;241m.\u001B[39meye(\u001B[38;5;28mself\u001B[39m\u001B[38;5;241m.\u001B[39mk)[np\u001B[38;5;241m.\u001B[39marray(Y)\u001B[38;5;241m.\u001B[39mreshape(\u001B[38;5;241m-\u001B[39m\u001B[38;5;241m1\u001B[39m)] \u001B[38;5;66;03m# mini_batch_size x num_of_classes\u001B[39;00m\n\u001B[1;32m---> 56\u001B[0m     dJ \u001B[38;5;241m=\u001B[39m \u001B[43mnp\u001B[49m\u001B[38;5;241;43m.\u001B[39;49m\u001B[43mdot\u001B[49m\u001B[43m(\u001B[49m\u001B[43m(\u001B[49m\u001B[43mone_hot_Y\u001B[49m\u001B[43m \u001B[49m\u001B[38;5;241;43m-\u001B[39;49m\u001B[43m \u001B[49m\u001B[43mH\u001B[49m\u001B[38;5;241;43m.\u001B[39;49m\u001B[43mtranspose\u001B[49m\u001B[43m(\u001B[49m\u001B[43m)\u001B[49m\u001B[43m)\u001B[49m\u001B[38;5;241;43m.\u001B[39;49m\u001B[43mtranspose\u001B[49m\u001B[43m(\u001B[49m\u001B[43m)\u001B[49m\u001B[43m,\u001B[49m\u001B[43m \u001B[49m\u001B[43mX\u001B[49m\u001B[43m)\u001B[49m  \u001B[38;5;66;03m# num_of_classes x num_of_features + 1\u001B[39;00m\n\u001B[0;32m     57\u001B[0m \u001B[38;5;28mself\u001B[39m\u001B[38;5;241m.\u001B[39mW \u001B[38;5;241m-\u001B[39m\u001B[38;5;241m=\u001B[39m (learning_rate \u001B[38;5;241m/\u001B[39m X\u001B[38;5;241m.\u001B[39mshape[\u001B[38;5;241m0\u001B[39m]) \u001B[38;5;241m*\u001B[39m dJ\n",
      "File \u001B[1;32m<__array_function__ internals>:180\u001B[0m, in \u001B[0;36mdot\u001B[1;34m(*args, **kwargs)\u001B[0m\n",
      "\u001B[1;31mKeyboardInterrupt\u001B[0m: "
     ]
    }
   ],
   "source": [
    "print('Logistic regression:')\n",
    "J, accuracy = cross_validation(df.hotel_review.to_frame(), df[category].to_frame(), LogisticRegression(ModelType.BOTH))\n",
    "print(f'Average accuracy is {accuracy}, average cost is {J}')"
   ],
   "metadata": {
    "collapsed": false,
    "pycharm": {
     "name": "#%%\n"
    }
   }
  },
  {
   "cell_type": "code",
   "execution_count": null,
   "outputs": [],
   "source": [],
   "metadata": {
    "collapsed": false,
    "pycharm": {
     "name": "#%%\n"
    }
   }
  }
 ],
 "metadata": {
  "kernelspec": {
   "display_name": "Python 3.10.4 ('opj')",
   "language": "python",
   "name": "python3"
  },
  "language_info": {
   "codemirror_mode": {
    "name": "ipython",
    "version": 3
   },
   "file_extension": ".py",
   "mimetype": "text/x-python",
   "name": "python",
   "nbconvert_exporter": "python",
   "pygments_lexer": "ipython3",
   "version": "3.10.4"
  },
  "orig_nbformat": 4,
  "vscode": {
   "interpreter": {
    "hash": "e34b170828573956425812b9e6b7e6374f6f2417efff6ebd62285e0cdecca193"
   }
  }
 },
 "nbformat": 4,
 "nbformat_minor": 2
}