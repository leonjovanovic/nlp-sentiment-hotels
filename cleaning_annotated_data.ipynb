{
 "cells": [
  {
   "cell_type": "code",
   "execution_count": 1,
   "metadata": {
    "pycharm": {
     "name": "#%%\n"
    }
   },
   "outputs": [
    {
     "name": "stdout",
     "output_type": "stream",
     "text": [
      "854\n"
     ]
    }
   ],
   "source": [
    "from preprocess import preprocess\n",
    "\n",
    "category = 'amenities'\n",
    "df_train, _, df_test, train_input, _, test_input = preprocess(validation_split=False)\n",
    "print(len(df_train) + len(df_test))"
   ]
  },
  {
   "cell_type": "code",
   "execution_count": 2,
   "metadata": {
    "pycharm": {
     "name": "#%%\n"
    }
   },
   "outputs": [],
   "source": [
    "from models.bayes_classificator import NaiveBayes, NaiveBayesCombined, ModelType\n",
    "\n",
    "predictor = NaiveBayesCombined()\n",
    "predictor.train(train_input, df_train.amenities)\n",
    "result_combined = predictor.test(test_input, df_test[category])\n",
    "\n",
    "predictor = NaiveBayes(ModelType.BOTH)\n",
    "predictor.train(train_input, df_train[category])\n",
    "result_both = predictor.test(test_input, df_test[category])"
   ]
  },
  {
   "cell_type": "code",
   "execution_count": 3,
   "metadata": {
    "pycharm": {
     "name": "#%%\n"
    }
   },
   "outputs": [],
   "source": [
    "# print(f'Number of correctly predicted examples by combined Bayes: {len(result_combined[result_combined.prediction == result_combined[category]])}/{len(result_combined)}')\n",
    "# print(f'Number of correctly predicted examples single Bayes for both: {len(result_both[result_both.prediction == result_both[category]])}/{len(result_both)}')"
   ]
  },
  {
   "cell_type": "code",
   "execution_count": 4,
   "metadata": {
    "pycharm": {
     "name": "#%%\n"
    }
   },
   "outputs": [
    {
     "name": "stdout",
     "output_type": "stream",
     "text": [
      "Multinomial Naive Bayes:\n",
      "Iteration 0: Model accuracy is 69.41176470588235, cost function is 0.3058823529411765\n",
      "Iteration 1: Model accuracy is 68.23529411764706, cost function is 0.3176470588235294\n",
      "Iteration 2: Model accuracy is 75.29411764705883, cost function is 0.24705882352941178\n",
      "Iteration 3: Model accuracy is 76.47058823529412, cost function is 0.23529411764705882\n",
      "Iteration 4: Model accuracy is 70.58823529411765, cost function is 0.29411764705882354\n",
      "Iteration 5: Model accuracy is 70.58823529411765, cost function is 0.29411764705882354\n",
      "Iteration 6: Model accuracy is 72.94117647058823, cost function is 0.27058823529411763\n",
      "Iteration 7: Model accuracy is 77.64705882352942, cost function is 0.2235294117647059\n",
      "Iteration 8: Model accuracy is 77.64705882352942, cost function is 0.2235294117647059\n",
      "Iteration 9: Model accuracy is 69.66292134831461, cost function is 0.30337078651685395\n",
      "Average accuracy is 72.84864507600793, average cost is 0.2715135492399207\n",
      "Combined Naive Bayes:\n",
      "Iteration 0: Model accuracy is 71.76470588235294, cost function is 0.2823529411764706\n",
      "Iteration 1: Model accuracy is 68.23529411764706, cost function is 0.3176470588235294\n",
      "Iteration 2: Model accuracy is 74.11764705882354, cost function is 0.25882352941176473\n",
      "Iteration 3: Model accuracy is 76.47058823529412, cost function is 0.23529411764705882\n",
      "Iteration 4: Model accuracy is 70.58823529411765, cost function is 0.29411764705882354\n",
      "Iteration 5: Model accuracy is 70.58823529411765, cost function is 0.29411764705882354\n",
      "Iteration 6: Model accuracy is 72.94117647058823, cost function is 0.27058823529411763\n",
      "Iteration 7: Model accuracy is 78.82352941176471, cost function is 0.21176470588235294\n",
      "Iteration 8: Model accuracy is 76.47058823529412, cost function is 0.23529411764705882\n",
      "Iteration 9: Model accuracy is 69.66292134831461, cost function is 0.30337078651685395\n",
      "Average accuracy is 72.96629213483146, average cost is 0.27033707865168544\n"
     ]
    }
   ],
   "source": [
    "from utils import import_annotated_json\n",
    "from cross_validation import cross_validation\n",
    "from models.bayes_classificator import NaiveBayes, NaiveBayesCombined, ModelType\n",
    "\n",
    "df = import_annotated_json()\n",
    "category = 'amenities'\n",
    "print('Multinomial Naive Bayes:')\n",
    "J, accuracy = cross_validation(df.hotel_review.to_frame(), df[category].to_frame(), NaiveBayes(ModelType.BOTH))\n",
    "print(f'Average accuracy is {accuracy}, average cost is {J}')\n",
    "print('Combined Naive Bayes:')\n",
    "J, accuracy = cross_validation(df.hotel_review.to_frame(), df[category].to_frame(), NaiveBayesCombined())\n",
    "print(f'Average accuracy is {accuracy}, average cost is {J}')"
   ]
  },
  {
   "cell_type": "code",
   "execution_count": null,
   "outputs": [],
   "source": [],
   "metadata": {
    "collapsed": false,
    "pycharm": {
     "name": "#%%\n"
    }
   }
  }
 ],
 "metadata": {
  "kernelspec": {
   "display_name": "Python 3.10.4 ('opj')",
   "language": "python",
   "name": "python3"
  },
  "language_info": {
   "codemirror_mode": {
    "name": "ipython",
    "version": 3
   },
   "file_extension": ".py",
   "mimetype": "text/x-python",
   "name": "python",
   "nbconvert_exporter": "python",
   "pygments_lexer": "ipython3",
   "version": "3.10.4"
  },
  "orig_nbformat": 4,
  "vscode": {
   "interpreter": {
    "hash": "e34b170828573956425812b9e6b7e6374f6f2417efff6ebd62285e0cdecca193"
   }
  }
 },
 "nbformat": 4,
 "nbformat_minor": 2
}